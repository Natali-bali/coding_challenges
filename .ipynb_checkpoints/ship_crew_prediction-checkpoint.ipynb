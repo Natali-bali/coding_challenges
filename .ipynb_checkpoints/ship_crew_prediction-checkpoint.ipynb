{
 "cells": [
  {
   "cell_type": "markdown",
   "id": "f702446a",
   "metadata": {},
   "source": [
    "# Predict Crew  Size\n",
    "\n",
    "### Instructions\n",
    "This coding exercise should be performed in python (which is the programming language used by the team). You are free to use the internet and any other libraries. Please save your work in a Jupyter notebook and email it to us for review.\n",
    "\n",
    "Data file: cruise_ship_info.csv (this file will be emailed to you)\n",
    "\n",
    "Objective: Build a regressor that recommends the “crew” size for potential ship buyers.\n",
    "\n",
    "Please do the following steps (hint: use numpy, scipy, pandas, sklearn and matplotlib)\n",
    "1. Read the file and display columns.\n",
    "2. Calculate basic statistics of the data (count, mean, std, etc) and examine data and state your observations.\n",
    "3. Select columns that will be probably important to predict “crew” size.\n",
    "4. If you removed columns explain why you removed those.\n",
    "5. Use one-hot encoding for categorical features.\n",
    "6. Create training and testing sets (use 60% of the data for the training and reminder for testing).\n",
    "7. Build a machine learning model to predict the ‘crew’ size.\n",
    "8. Calculate the Pearson correlation coefficient for the training set and testing data sets.\n",
    "9. Describe hyper-parameters in your model and how you would change them to improve the performance of the model.\n",
    "10.What is regularization? What is the regularization parameter in your model?\n",
    "11.Plot regularization parameter value vs Pearson correlation for the test and training sets, and see whether your model has bias problem or variance problem."
   ]
  },
  {
   "cell_type": "markdown",
   "id": "bde34c5a",
   "metadata": {},
   "source": [
    "### Download data from github"
   ]
  },
  {
   "cell_type": "code",
   "execution_count": 381,
   "id": "2f09d97f",
   "metadata": {
    "scrolled": false
   },
   "outputs": [
    {
     "name": "stdout",
     "output_type": "stream",
     "text": [
      "  % Total    % Received % Xferd  Average Speed   Time    Time     Time  Current\n",
      "                                 Dload  Upload   Total   Spent    Left  Speed\n",
      "100  8734  100  8734    0     0  20358      0 --:--:-- --:--:-- --:--:-- 20358\n"
     ]
    }
   ],
   "source": [
    "! curl -O 'https://raw.githubusercontent.com/bot13956/ML_Model_for_Predicting_Ships_Crew_Size/master/cruise_ship_info.csv'"
   ]
  },
  {
   "cell_type": "markdown",
   "id": "be5690e8",
   "metadata": {},
   "source": [
    "### Download libraries"
   ]
  },
  {
   "cell_type": "code",
   "execution_count": 382,
   "id": "8eebe40a",
   "metadata": {},
   "outputs": [],
   "source": [
    "import pandas as pd\n",
    "import numpy as np\n",
    "import matplotlib as plt\n",
    "import seaborn as sns\n",
    "from sklearn.model_selection import train_test_split\n",
    "from sklearn.linear_model import LinearRegression, Ridge, Lasso, RidgeCV, LassoCV\n",
    "from sklearn.metrics import mean_squared_error, r2_score"
   ]
  },
  {
   "cell_type": "markdown",
   "id": "bb0a9053",
   "metadata": {},
   "source": [
    "### 1. Read the file and display columns."
   ]
  },
  {
   "cell_type": "code",
   "execution_count": 383,
   "id": "75ec3d84",
   "metadata": {},
   "outputs": [],
   "source": [
    "df = pd.read_csv('cruise_ship_info.csv')"
   ]
  },
  {
   "cell_type": "code",
   "execution_count": 384,
   "id": "73244510",
   "metadata": {},
   "outputs": [
    {
     "data": {
      "text/html": [
       "<div>\n",
       "<style scoped>\n",
       "    .dataframe tbody tr th:only-of-type {\n",
       "        vertical-align: middle;\n",
       "    }\n",
       "\n",
       "    .dataframe tbody tr th {\n",
       "        vertical-align: top;\n",
       "    }\n",
       "\n",
       "    .dataframe thead th {\n",
       "        text-align: right;\n",
       "    }\n",
       "</style>\n",
       "<table border=\"1\" class=\"dataframe\">\n",
       "  <thead>\n",
       "    <tr style=\"text-align: right;\">\n",
       "      <th></th>\n",
       "      <th>Ship_name</th>\n",
       "      <th>Cruise_line</th>\n",
       "      <th>Age</th>\n",
       "      <th>Tonnage</th>\n",
       "      <th>passengers</th>\n",
       "      <th>length</th>\n",
       "      <th>cabins</th>\n",
       "      <th>passenger_density</th>\n",
       "      <th>crew</th>\n",
       "    </tr>\n",
       "  </thead>\n",
       "  <tbody>\n",
       "    <tr>\n",
       "      <th>0</th>\n",
       "      <td>Journey</td>\n",
       "      <td>Azamara</td>\n",
       "      <td>6</td>\n",
       "      <td>30.277</td>\n",
       "      <td>6.94</td>\n",
       "      <td>5.94</td>\n",
       "      <td>3.55</td>\n",
       "      <td>42.64</td>\n",
       "      <td>3.55</td>\n",
       "    </tr>\n",
       "    <tr>\n",
       "      <th>1</th>\n",
       "      <td>Quest</td>\n",
       "      <td>Azamara</td>\n",
       "      <td>6</td>\n",
       "      <td>30.277</td>\n",
       "      <td>6.94</td>\n",
       "      <td>5.94</td>\n",
       "      <td>3.55</td>\n",
       "      <td>42.64</td>\n",
       "      <td>3.55</td>\n",
       "    </tr>\n",
       "    <tr>\n",
       "      <th>2</th>\n",
       "      <td>Celebration</td>\n",
       "      <td>Carnival</td>\n",
       "      <td>26</td>\n",
       "      <td>47.262</td>\n",
       "      <td>14.86</td>\n",
       "      <td>7.22</td>\n",
       "      <td>7.43</td>\n",
       "      <td>31.80</td>\n",
       "      <td>6.70</td>\n",
       "    </tr>\n",
       "    <tr>\n",
       "      <th>3</th>\n",
       "      <td>Conquest</td>\n",
       "      <td>Carnival</td>\n",
       "      <td>11</td>\n",
       "      <td>110.000</td>\n",
       "      <td>29.74</td>\n",
       "      <td>9.53</td>\n",
       "      <td>14.88</td>\n",
       "      <td>36.99</td>\n",
       "      <td>19.10</td>\n",
       "    </tr>\n",
       "    <tr>\n",
       "      <th>4</th>\n",
       "      <td>Destiny</td>\n",
       "      <td>Carnival</td>\n",
       "      <td>17</td>\n",
       "      <td>101.353</td>\n",
       "      <td>26.42</td>\n",
       "      <td>8.92</td>\n",
       "      <td>13.21</td>\n",
       "      <td>38.36</td>\n",
       "      <td>10.00</td>\n",
       "    </tr>\n",
       "  </tbody>\n",
       "</table>\n",
       "</div>"
      ],
      "text/plain": [
       "     Ship_name Cruise_line  Age  Tonnage  passengers  length  cabins  \\\n",
       "0      Journey     Azamara    6   30.277        6.94    5.94    3.55   \n",
       "1        Quest     Azamara    6   30.277        6.94    5.94    3.55   \n",
       "2  Celebration    Carnival   26   47.262       14.86    7.22    7.43   \n",
       "3     Conquest    Carnival   11  110.000       29.74    9.53   14.88   \n",
       "4      Destiny    Carnival   17  101.353       26.42    8.92   13.21   \n",
       "\n",
       "   passenger_density   crew  \n",
       "0              42.64   3.55  \n",
       "1              42.64   3.55  \n",
       "2              31.80   6.70  \n",
       "3              36.99  19.10  \n",
       "4              38.36  10.00  "
      ]
     },
     "execution_count": 384,
     "metadata": {},
     "output_type": "execute_result"
    }
   ],
   "source": [
    "df.head()"
   ]
  },
  {
   "cell_type": "markdown",
   "id": "4bd9f4cb",
   "metadata": {},
   "source": [
    "### 2. Calculate basic statistics of the data (count, mean, std, etc) and examine data and state your observations."
   ]
  },
  {
   "cell_type": "code",
   "execution_count": 385,
   "id": "46b07aad",
   "metadata": {
    "scrolled": true
   },
   "outputs": [
    {
     "data": {
      "text/html": [
       "<div>\n",
       "<style scoped>\n",
       "    .dataframe tbody tr th:only-of-type {\n",
       "        vertical-align: middle;\n",
       "    }\n",
       "\n",
       "    .dataframe tbody tr th {\n",
       "        vertical-align: top;\n",
       "    }\n",
       "\n",
       "    .dataframe thead th {\n",
       "        text-align: right;\n",
       "    }\n",
       "</style>\n",
       "<table border=\"1\" class=\"dataframe\">\n",
       "  <thead>\n",
       "    <tr style=\"text-align: right;\">\n",
       "      <th></th>\n",
       "      <th>Age</th>\n",
       "      <th>Tonnage</th>\n",
       "      <th>passengers</th>\n",
       "      <th>length</th>\n",
       "      <th>cabins</th>\n",
       "      <th>passenger_density</th>\n",
       "      <th>crew</th>\n",
       "    </tr>\n",
       "  </thead>\n",
       "  <tbody>\n",
       "    <tr>\n",
       "      <th>count</th>\n",
       "      <td>158.000000</td>\n",
       "      <td>158.000000</td>\n",
       "      <td>158.000000</td>\n",
       "      <td>158.000000</td>\n",
       "      <td>158.000000</td>\n",
       "      <td>158.000000</td>\n",
       "      <td>158.000000</td>\n",
       "    </tr>\n",
       "    <tr>\n",
       "      <th>mean</th>\n",
       "      <td>15.689873</td>\n",
       "      <td>71.284671</td>\n",
       "      <td>18.457405</td>\n",
       "      <td>8.130633</td>\n",
       "      <td>8.830000</td>\n",
       "      <td>39.900949</td>\n",
       "      <td>7.794177</td>\n",
       "    </tr>\n",
       "    <tr>\n",
       "      <th>std</th>\n",
       "      <td>7.615691</td>\n",
       "      <td>37.229540</td>\n",
       "      <td>9.677095</td>\n",
       "      <td>1.793474</td>\n",
       "      <td>4.471417</td>\n",
       "      <td>8.639217</td>\n",
       "      <td>3.503487</td>\n",
       "    </tr>\n",
       "    <tr>\n",
       "      <th>min</th>\n",
       "      <td>4.000000</td>\n",
       "      <td>2.329000</td>\n",
       "      <td>0.660000</td>\n",
       "      <td>2.790000</td>\n",
       "      <td>0.330000</td>\n",
       "      <td>17.700000</td>\n",
       "      <td>0.590000</td>\n",
       "    </tr>\n",
       "    <tr>\n",
       "      <th>25%</th>\n",
       "      <td>10.000000</td>\n",
       "      <td>46.013000</td>\n",
       "      <td>12.535000</td>\n",
       "      <td>7.100000</td>\n",
       "      <td>6.132500</td>\n",
       "      <td>34.570000</td>\n",
       "      <td>5.480000</td>\n",
       "    </tr>\n",
       "    <tr>\n",
       "      <th>50%</th>\n",
       "      <td>14.000000</td>\n",
       "      <td>71.899000</td>\n",
       "      <td>19.500000</td>\n",
       "      <td>8.555000</td>\n",
       "      <td>9.570000</td>\n",
       "      <td>39.085000</td>\n",
       "      <td>8.150000</td>\n",
       "    </tr>\n",
       "    <tr>\n",
       "      <th>75%</th>\n",
       "      <td>20.000000</td>\n",
       "      <td>90.772500</td>\n",
       "      <td>24.845000</td>\n",
       "      <td>9.510000</td>\n",
       "      <td>10.885000</td>\n",
       "      <td>44.185000</td>\n",
       "      <td>9.990000</td>\n",
       "    </tr>\n",
       "    <tr>\n",
       "      <th>max</th>\n",
       "      <td>48.000000</td>\n",
       "      <td>220.000000</td>\n",
       "      <td>54.000000</td>\n",
       "      <td>11.820000</td>\n",
       "      <td>27.000000</td>\n",
       "      <td>71.430000</td>\n",
       "      <td>21.000000</td>\n",
       "    </tr>\n",
       "  </tbody>\n",
       "</table>\n",
       "</div>"
      ],
      "text/plain": [
       "              Age     Tonnage  passengers      length      cabins  \\\n",
       "count  158.000000  158.000000  158.000000  158.000000  158.000000   \n",
       "mean    15.689873   71.284671   18.457405    8.130633    8.830000   \n",
       "std      7.615691   37.229540    9.677095    1.793474    4.471417   \n",
       "min      4.000000    2.329000    0.660000    2.790000    0.330000   \n",
       "25%     10.000000   46.013000   12.535000    7.100000    6.132500   \n",
       "50%     14.000000   71.899000   19.500000    8.555000    9.570000   \n",
       "75%     20.000000   90.772500   24.845000    9.510000   10.885000   \n",
       "max     48.000000  220.000000   54.000000   11.820000   27.000000   \n",
       "\n",
       "       passenger_density        crew  \n",
       "count         158.000000  158.000000  \n",
       "mean           39.900949    7.794177  \n",
       "std             8.639217    3.503487  \n",
       "min            17.700000    0.590000  \n",
       "25%            34.570000    5.480000  \n",
       "50%            39.085000    8.150000  \n",
       "75%            44.185000    9.990000  \n",
       "max            71.430000   21.000000  "
      ]
     },
     "execution_count": 385,
     "metadata": {},
     "output_type": "execute_result"
    }
   ],
   "source": [
    "df.describe()"
   ]
  },
  {
   "cell_type": "code",
   "execution_count": 386,
   "id": "d57ba74a",
   "metadata": {},
   "outputs": [
    {
     "name": "stdout",
     "output_type": "stream",
     "text": [
      "<class 'pandas.core.frame.DataFrame'>\n",
      "RangeIndex: 158 entries, 0 to 157\n",
      "Data columns (total 9 columns):\n",
      " #   Column             Non-Null Count  Dtype  \n",
      "---  ------             --------------  -----  \n",
      " 0   Ship_name          158 non-null    object \n",
      " 1   Cruise_line        158 non-null    object \n",
      " 2   Age                158 non-null    int64  \n",
      " 3   Tonnage            158 non-null    float64\n",
      " 4   passengers         158 non-null    float64\n",
      " 5   length             158 non-null    float64\n",
      " 6   cabins             158 non-null    float64\n",
      " 7   passenger_density  158 non-null    float64\n",
      " 8   crew               158 non-null    float64\n",
      "dtypes: float64(6), int64(1), object(2)\n",
      "memory usage: 11.2+ KB\n"
     ]
    }
   ],
   "source": [
    "df.info()"
   ]
  },
  {
   "cell_type": "markdown",
   "id": "96b17a88",
   "metadata": {},
   "source": [
    "We have 158 datapoints. \n",
    "\n",
    "Some values as passengers and cabins are float, this values are not clear for me. \n",
    "\n",
    "\n",
    "I can see that some ships have only different names, the rest is equal.\n",
    "\n",
    "\n",
    "Passenger_density might be highly correlated to cabins/passengers"
   ]
  },
  {
   "cell_type": "markdown",
   "id": "817d3815",
   "metadata": {},
   "source": [
    "### Check for nan values"
   ]
  },
  {
   "cell_type": "code",
   "execution_count": 387,
   "id": "98415083",
   "metadata": {},
   "outputs": [
    {
     "data": {
      "text/plain": [
       "<AxesSubplot:>"
      ]
     },
     "execution_count": 387,
     "metadata": {},
     "output_type": "execute_result"
    },
    {
     "data": {
      "image/png": "[encoded data removed]",
      "text/plain": [
       "<Figure size 432x288 with 2 Axes>"
      ]
     },
     "metadata": {
      "needs_background": "light"
     },
     "output_type": "display_data"
    }
   ],
   "source": [
    "sns.heatmap(df.isna())"
   ]
  },
  {
   "cell_type": "markdown",
   "id": "38ec24a7",
   "metadata": {},
   "source": [
    "Data is clean and has no Nan values"
   ]
  },
  {
   "cell_type": "markdown",
   "id": "ee45ff8b",
   "metadata": {},
   "source": [
    "### 3.Select columns that will be probably important to predict “crew” size."
   ]
  },
  {
   "cell_type": "markdown",
   "id": "324add8c",
   "metadata": {},
   "source": [
    "### Check correlated features"
   ]
  },
  {
   "cell_type": "code",
   "execution_count": 388,
   "id": "08e91889",
   "metadata": {
    "scrolled": true
   },
   "outputs": [
    {
     "data": {
      "text/plain": [
       "<AxesSubplot:>"
      ]
     },
     "execution_count": 388,
     "metadata": {},
     "output_type": "execute_result"
    },
    {
     "data": {
      "image/png": "[encoded data removed]",
      "text/plain": [
       "<Figure size 432x288 with 2 Axes>"
      ]
     },
     "metadata": {
      "needs_background": "light"
     },
     "output_type": "display_data"
    }
   ],
   "source": [
    "sns.heatmap(df.corr(), center = 0, annot=True)"
   ]
  },
  {
   "cell_type": "markdown",
   "id": "cb1f7770",
   "metadata": {},
   "source": [
    "To do so I will use scatter plots to see gow our dependent variable depends on each feauture"
   ]
  },
  {
   "cell_type": "code",
   "execution_count": 389,
   "id": "9312c843",
   "metadata": {
    "scrolled": false
   },
   "outputs": [
    {
     "data": {
      "text/plain": [
       "<seaborn.axisgrid.PairGrid at 0x7fa93f1938b0>"
      ]
     },
     "execution_count": 389,
     "metadata": {},
     "output_type": "execute_result"
    },
    {
     "data": {
      "image/png": "[encoded data removed]",
      "text/plain": [
       "<Figure size 1944x216 with 10 Axes>"
      ]
     },
     "metadata": {
      "needs_background": "light"
     },
     "output_type": "display_data"
    }
   ],
   "source": [
    "# plt.pyplot.figure(figsize = (25,25))\n",
    "sns.pairplot(df, y_vars = ['crew'], x_vars = df[::-1], height = 3.0) "
   ]
  },
  {
   "cell_type": "markdown",
   "id": "bbe8d7cb",
   "metadata": {},
   "source": [
    "### 4. If you removed columns explain why you removed those."
   ]
  },
  {
   "cell_type": "markdown",
   "id": "be7428db",
   "metadata": {},
   "source": [
    "Passenger_density has tiny correlation with crew size and not linear dependences, i will drop it to avoid overfitting our model and reduce features"
   ]
  },
  {
   "cell_type": "code",
   "execution_count": 390,
   "id": "a906ab03",
   "metadata": {},
   "outputs": [],
   "source": [
    "df = df.drop('passenger_density', axis = 1)"
   ]
  },
  {
   "cell_type": "markdown",
   "id": "ac18fc4d",
   "metadata": {},
   "source": [
    "I will remove column Ship_name as it is not informative and remove duplicates from dataset\n"
   ]
  },
  {
   "cell_type": "code",
   "execution_count": 391,
   "id": "c12c591f",
   "metadata": {},
   "outputs": [
    {
     "data": {
      "text/plain": [
       "153"
      ]
     },
     "execution_count": 391,
     "metadata": {},
     "output_type": "execute_result"
    }
   ],
   "source": [
    "df = df.drop('Ship_name', axis = 1)\n",
    "df = df.drop_duplicates()\n",
    "len(df)"
   ]
  },
  {
   "cell_type": "markdown",
   "id": "27fdc70a",
   "metadata": {},
   "source": [
    "There are 2 outlayers where crew is larger than 15 ppl, after i check base model i will remove them\n",
    "The crew variable has linear dependecies from main features Tonnage, passengers, length and cabins "
   ]
  },
  {
   "cell_type": "markdown",
   "id": "d60856de",
   "metadata": {},
   "source": [
    "### 5. Use one-hot encoding for categorical features."
   ]
  },
  {
   "cell_type": "code",
   "execution_count": 392,
   "id": "d1a235a6",
   "metadata": {
    "scrolled": false
   },
   "outputs": [
    {
     "data": {
      "text/plain": [
       "(array(['Azamara', 'Carnival', 'Celebrity', 'Costa', 'Crystal', 'Cunard',\n",
       "        'Disney', 'Holland_American', 'MSC', 'Norwegian', 'Oceania',\n",
       "        'Orient', 'P&O', 'Princess', 'Regent_Seven_Seas',\n",
       "        'Royal_Caribbean', 'Seabourn', 'Silversea', 'Star', 'Windstar'],\n",
       "       dtype=object),\n",
       " 20)"
      ]
     },
     "execution_count": 392,
     "metadata": {},
     "output_type": "execute_result"
    }
   ],
   "source": [
    "df.Cruise_line.unique(), len(df.Cruise_line.unique())"
   ]
  },
  {
   "cell_type": "markdown",
   "id": "84c07c0b",
   "metadata": {},
   "source": [
    "We have 20 cruise line names, i will one hot encode them"
   ]
  },
  {
   "cell_type": "code",
   "execution_count": 393,
   "id": "a4c66002",
   "metadata": {
    "scrolled": true
   },
   "outputs": [
    {
     "data": {
      "text/html": [
       "<div>\n",
       "<style scoped>\n",
       "    .dataframe tbody tr th:only-of-type {\n",
       "        vertical-align: middle;\n",
       "    }\n",
       "\n",
       "    .dataframe tbody tr th {\n",
       "        vertical-align: top;\n",
       "    }\n",
       "\n",
       "    .dataframe thead th {\n",
       "        text-align: right;\n",
       "    }\n",
       "</style>\n",
       "<table border=\"1\" class=\"dataframe\">\n",
       "  <thead>\n",
       "    <tr style=\"text-align: right;\">\n",
       "      <th></th>\n",
       "      <th>Age</th>\n",
       "      <th>Tonnage</th>\n",
       "      <th>passengers</th>\n",
       "      <th>length</th>\n",
       "      <th>cabins</th>\n",
       "      <th>crew</th>\n",
       "      <th>Azamara</th>\n",
       "      <th>Carnival</th>\n",
       "      <th>Celebrity</th>\n",
       "      <th>Costa</th>\n",
       "      <th>...</th>\n",
       "      <th>Oceania</th>\n",
       "      <th>Orient</th>\n",
       "      <th>P&amp;O</th>\n",
       "      <th>Princess</th>\n",
       "      <th>Regent_Seven_Seas</th>\n",
       "      <th>Royal_Caribbean</th>\n",
       "      <th>Seabourn</th>\n",
       "      <th>Silversea</th>\n",
       "      <th>Star</th>\n",
       "      <th>Windstar</th>\n",
       "    </tr>\n",
       "  </thead>\n",
       "  <tbody>\n",
       "    <tr>\n",
       "      <th>0</th>\n",
       "      <td>6</td>\n",
       "      <td>30.277</td>\n",
       "      <td>6.94</td>\n",
       "      <td>5.94</td>\n",
       "      <td>3.55</td>\n",
       "      <td>3.55</td>\n",
       "      <td>1</td>\n",
       "      <td>0</td>\n",
       "      <td>0</td>\n",
       "      <td>0</td>\n",
       "      <td>...</td>\n",
       "      <td>0</td>\n",
       "      <td>0</td>\n",
       "      <td>0</td>\n",
       "      <td>0</td>\n",
       "      <td>0</td>\n",
       "      <td>0</td>\n",
       "      <td>0</td>\n",
       "      <td>0</td>\n",
       "      <td>0</td>\n",
       "      <td>0</td>\n",
       "    </tr>\n",
       "    <tr>\n",
       "      <th>2</th>\n",
       "      <td>26</td>\n",
       "      <td>47.262</td>\n",
       "      <td>14.86</td>\n",
       "      <td>7.22</td>\n",
       "      <td>7.43</td>\n",
       "      <td>6.70</td>\n",
       "      <td>0</td>\n",
       "      <td>1</td>\n",
       "      <td>0</td>\n",
       "      <td>0</td>\n",
       "      <td>...</td>\n",
       "      <td>0</td>\n",
       "      <td>0</td>\n",
       "      <td>0</td>\n",
       "      <td>0</td>\n",
       "      <td>0</td>\n",
       "      <td>0</td>\n",
       "      <td>0</td>\n",
       "      <td>0</td>\n",
       "      <td>0</td>\n",
       "      <td>0</td>\n",
       "    </tr>\n",
       "    <tr>\n",
       "      <th>3</th>\n",
       "      <td>11</td>\n",
       "      <td>110.000</td>\n",
       "      <td>29.74</td>\n",
       "      <td>9.53</td>\n",
       "      <td>14.88</td>\n",
       "      <td>19.10</td>\n",
       "      <td>0</td>\n",
       "      <td>1</td>\n",
       "      <td>0</td>\n",
       "      <td>0</td>\n",
       "      <td>...</td>\n",
       "      <td>0</td>\n",
       "      <td>0</td>\n",
       "      <td>0</td>\n",
       "      <td>0</td>\n",
       "      <td>0</td>\n",
       "      <td>0</td>\n",
       "      <td>0</td>\n",
       "      <td>0</td>\n",
       "      <td>0</td>\n",
       "      <td>0</td>\n",
       "    </tr>\n",
       "    <tr>\n",
       "      <th>4</th>\n",
       "      <td>17</td>\n",
       "      <td>101.353</td>\n",
       "      <td>26.42</td>\n",
       "      <td>8.92</td>\n",
       "      <td>13.21</td>\n",
       "      <td>10.00</td>\n",
       "      <td>0</td>\n",
       "      <td>1</td>\n",
       "      <td>0</td>\n",
       "      <td>0</td>\n",
       "      <td>...</td>\n",
       "      <td>0</td>\n",
       "      <td>0</td>\n",
       "      <td>0</td>\n",
       "      <td>0</td>\n",
       "      <td>0</td>\n",
       "      <td>0</td>\n",
       "      <td>0</td>\n",
       "      <td>0</td>\n",
       "      <td>0</td>\n",
       "      <td>0</td>\n",
       "    </tr>\n",
       "    <tr>\n",
       "      <th>5</th>\n",
       "      <td>22</td>\n",
       "      <td>70.367</td>\n",
       "      <td>20.52</td>\n",
       "      <td>8.55</td>\n",
       "      <td>10.20</td>\n",
       "      <td>9.20</td>\n",
       "      <td>0</td>\n",
       "      <td>1</td>\n",
       "      <td>0</td>\n",
       "      <td>0</td>\n",
       "      <td>...</td>\n",
       "      <td>0</td>\n",
       "      <td>0</td>\n",
       "      <td>0</td>\n",
       "      <td>0</td>\n",
       "      <td>0</td>\n",
       "      <td>0</td>\n",
       "      <td>0</td>\n",
       "      <td>0</td>\n",
       "      <td>0</td>\n",
       "      <td>0</td>\n",
       "    </tr>\n",
       "  </tbody>\n",
       "</table>\n",
       "<p>5 rows × 26 columns</p>\n",
       "</div>"
      ],
      "text/plain": [
       "   Age  Tonnage  passengers  length  cabins   crew  Azamara  Carnival  \\\n",
       "0    6   30.277        6.94    5.94    3.55   3.55        1         0   \n",
       "2   26   47.262       14.86    7.22    7.43   6.70        0         1   \n",
       "3   11  110.000       29.74    9.53   14.88  19.10        0         1   \n",
       "4   17  101.353       26.42    8.92   13.21  10.00        0         1   \n",
       "5   22   70.367       20.52    8.55   10.20   9.20        0         1   \n",
       "\n",
       "   Celebrity  Costa  ...  Oceania  Orient  P&O  Princess  Regent_Seven_Seas  \\\n",
       "0          0      0  ...        0       0    0         0                  0   \n",
       "2          0      0  ...        0       0    0         0                  0   \n",
       "3          0      0  ...        0       0    0         0                  0   \n",
       "4          0      0  ...        0       0    0         0                  0   \n",
       "5          0      0  ...        0       0    0         0                  0   \n",
       "\n",
       "   Royal_Caribbean  Seabourn  Silversea  Star  Windstar  \n",
       "0                0         0          0     0         0  \n",
       "2                0         0          0     0         0  \n",
       "3                0         0          0     0         0  \n",
       "4                0         0          0     0         0  \n",
       "5                0         0          0     0         0  \n",
       "\n",
       "[5 rows x 26 columns]"
      ]
     },
     "execution_count": 393,
     "metadata": {},
     "output_type": "execute_result"
    }
   ],
   "source": [
    "df[df.Cruise_line.unique()] = pd.get_dummies(df['Cruise_line'])\n",
    "df = df.drop('Cruise_line', axis = 1)\n",
    "df.head()"
   ]
  },
  {
   "cell_type": "markdown",
   "id": "03ce4805",
   "metadata": {},
   "source": [
    "### 6. Create training and testing sets (use 60% of the data for the training and reminder for testing)."
   ]
  },
  {
   "cell_type": "code",
   "execution_count": 394,
   "id": "a7c9bc66",
   "metadata": {},
   "outputs": [],
   "source": [
    "X = df.drop('crew', axis = 1)\n",
    "y = df.crew"
   ]
  },
  {
   "cell_type": "code",
   "execution_count": 395,
   "id": "4f3d5a09",
   "metadata": {},
   "outputs": [],
   "source": [
    "X_train, X_test, y_train, y_test = train_test_split(X, y, test_size=0.4, random_state=42)"
   ]
  },
  {
   "cell_type": "markdown",
   "id": "12ddf1f9",
   "metadata": {},
   "source": [
    "### 7. Build a machine learning model to predict the ‘crew’ size."
   ]
  },
  {
   "cell_type": "code",
   "execution_count": null,
   "id": "17ad40d2",
   "metadata": {},
   "outputs": [],
   "source": [
    "#Helper function to make predition, print accuracy scores and save model in df\n",
    "models = pd.DataFrame(columns = ['model', 'test_R2', 'train_R2', 'test_MSE', 'train_MSE'])"
   ]
  },
  {
   "cell_type": "code",
   "execution_count": 396,
   "id": "e704f9c9",
   "metadata": {},
   "outputs": [],
   "source": [
    "def make_pred(model, model_name, X_test, X_train, y_test = y_test, y_train = y_train):\n",
    "    global models\n",
    "    y_pred_test = model.predict(X_test)\n",
    "    y_pred_train = model.predict(X_train)\n",
    "    print('Model name: ', model_name)\n",
    "    print(\"test r2 score :\", r2_score(y_test, y_pred_test))\n",
    "    print(\"train r2 score  :\", r2_score(y_train, y_pred_train))\n",
    "    print(\"MSE test: \", mean_squared_error(y_test, y_pred_test))\n",
    "    print(\"MSE train: \", mean_squared_error(y_train, y_pred_train))\n",
    "    models.loc[len(models)] = [model_name, r2_score(y_test, y_pred_test), r2_score(y_train, y_pred_train), \n",
    "                   mean_squared_error(y_test, y_pred_test), mean_squared_error(y_train, y_pred_train)]\n",
    "    return y_pred_test, y_pred_train"
   ]
  },
  {
   "cell_type": "code",
   "execution_count": 397,
   "id": "73b76e64",
   "metadata": {},
   "outputs": [
    {
     "data": {
      "text/html": [
       "<div>\n",
       "<style scoped>\n",
       "    .dataframe tbody tr th:only-of-type {\n",
       "        vertical-align: middle;\n",
       "    }\n",
       "\n",
       "    .dataframe tbody tr th {\n",
       "        vertical-align: top;\n",
       "    }\n",
       "\n",
       "    .dataframe thead th {\n",
       "        text-align: right;\n",
       "    }\n",
       "</style>\n",
       "<table border=\"1\" class=\"dataframe\">\n",
       "  <thead>\n",
       "    <tr style=\"text-align: right;\">\n",
       "      <th></th>\n",
       "      <th>model</th>\n",
       "      <th>test_R2</th>\n",
       "      <th>train_R2</th>\n",
       "      <th>test_MSE</th>\n",
       "      <th>train_MSE</th>\n",
       "    </tr>\n",
       "  </thead>\n",
       "  <tbody>\n",
       "  </tbody>\n",
       "</table>\n",
       "</div>"
      ],
      "text/plain": [
       "Empty DataFrame\n",
       "Columns: [model, test_R2, train_R2, test_MSE, train_MSE]\n",
       "Index: []"
      ]
     },
     "execution_count": 397,
     "metadata": {},
     "output_type": "execute_result"
    }
   ],
   "source": [
    "models"
   ]
  },
  {
   "cell_type": "code",
   "execution_count": 398,
   "id": "ec4debef",
   "metadata": {},
   "outputs": [],
   "source": [
    "lr = LinearRegression()"
   ]
  },
  {
   "cell_type": "code",
   "execution_count": 399,
   "id": "adebe21f",
   "metadata": {
    "scrolled": true
   },
   "outputs": [
    {
     "data": {
      "text/plain": [
       "LinearRegression()"
      ]
     },
     "execution_count": 399,
     "metadata": {},
     "output_type": "execute_result"
    }
   ],
   "source": [
    "lr.fit(X_train, y_train)"
   ]
  },
  {
   "cell_type": "code",
   "execution_count": 400,
   "id": "c35d19ff",
   "metadata": {
    "scrolled": true
   },
   "outputs": [
    {
     "name": "stdout",
     "output_type": "stream",
     "text": [
      "Model name:  base_linear_regression\n",
      "test r2 score : 0.9566862731118811\n",
      "train r2 score  : 0.9325490516483538\n",
      "MSE test:  0.42146809563521775\n",
      "MSE train:  0.9236828590441323\n"
     ]
    },
    {
     "data": {
      "text/plain": [
       "(array([ 4.04208105,  4.32039671, 11.52474046,  8.18876402, -0.18546925,\n",
       "        12.35097455,  9.87598606,  4.33559779, 10.18474694, 10.16984565,\n",
       "        11.3626887 ,  9.29894433, 12.78458739,  5.8853805 ,  5.31305169,\n",
       "         3.27964297,  0.7367823 , 12.3930556 ,  7.12932805,  9.30901876,\n",
       "        10.48703482,  7.17781496,  3.33770218,  4.94359073,  5.76540873,\n",
       "         6.39222509,  9.04094692,  7.59375021,  7.57270969, 10.82788238,\n",
       "         2.44196334,  9.41829979,  7.2904808 ,  8.36717594, 10.74031567,\n",
       "         4.52820583,  9.31998485,  6.87024177,  8.1677235 , 12.32993403,\n",
       "         9.82249956, 13.59897928,  2.77977059,  8.56182409,  9.40414694,\n",
       "         9.39340933,  3.05006207,  8.38873893,  5.91696592, 11.03663863,\n",
       "         2.51336509,  6.8766195 ,  5.29785508,  0.59133222,  1.66955213,\n",
       "         6.57919136, 11.14059957,  9.39725926,  4.12692927,  9.05321626,\n",
       "         3.18061066,  9.22333919]),\n",
       " array([ 0.92428847,  7.09812244, 11.15171758, 12.80877475,  9.80145904,\n",
       "         9.78041852,  2.80738951,  5.70608459,  0.93011149,  8.50029839,\n",
       "         9.46193446,  7.69622422, 12.37201508,  7.74588238,  5.57701189,\n",
       "        11.3336197 , 10.2941977 ,  8.42831922,  9.09562213,  4.        ,\n",
       "         8.42682571,  9.25686328, 12.01488606,  8.53794102,  5.89028042,\n",
       "        10.84892291,  9.2011378 ,  9.13770317,  6.85361259, 13.52469551,\n",
       "         9.34102538,  5.45      ,  7.28656823,  2.10630525,  8.52471014,\n",
       "         7.72484186,  1.53687843,  1.66312157,  8.48455005, 11.90643969,\n",
       "        10.19100658, 13.57935428,  1.6       , 11.5458641 ,  9.3620659 ,\n",
       "         9.35094505, 10.53010051,  8.18683507,  9.4368753 ,  7.89397435,\n",
       "        11.3996631 , 12.82531068,  7.31343177,  3.67816838,  8.74834625,\n",
       "         8.73001866,  7.91501488,  9.        ,  4.68211854,  6.08093837,\n",
       "         0.55911877,  6.77592355,  6.10197889,  8.13060786,  8.10348281,\n",
       "        12.30889351,  5.25577404,  9.43806554,  5.26922752, 11.8077776 ,\n",
       "         5.31889561,  7.65305958, 20.49175634,  3.22822258,  2.10630525,\n",
       "         6.91489526,  5.08880071,  8.20980454,  7.40793416, 11.16380423,\n",
       "         5.03972364,  9.01961913, 10.8999836 , 14.44292427,  2.12088123,\n",
       "        12.76936989,  4.84880499, 11.32277586, 12.74250635, 11.62599544,\n",
       "         3.05225487]))"
      ]
     },
     "execution_count": 400,
     "metadata": {},
     "output_type": "execute_result"
    }
   ],
   "source": [
    "make_pred(lr, 'base_linear_regression', X_test, X_train)"
   ]
  },
  {
   "cell_type": "markdown",
   "id": "784b9035",
   "metadata": {},
   "source": [
    "We have problem: model has negative predictions"
   ]
  },
  {
   "cell_type": "code",
   "execution_count": 401,
   "id": "de060fe7",
   "metadata": {
    "scrolled": true
   },
   "outputs": [
    {
     "data": {
      "text/plain": [
       "Index(['Age', 'Tonnage', 'passengers', 'length', 'cabins', 'crew', 'Azamara',\n",
       "       'Carnival', 'Celebrity', 'Costa', 'Crystal', 'Cunard', 'Disney',\n",
       "       'Holland_American', 'MSC', 'Norwegian', 'Oceania', 'Orient', 'P&O',\n",
       "       'Princess', 'Regent_Seven_Seas', 'Royal_Caribbean', 'Seabourn',\n",
       "       'Silversea', 'Star', 'Windstar'],\n",
       "      dtype='object')"
      ]
     },
     "execution_count": 401,
     "metadata": {},
     "output_type": "execute_result"
    }
   ],
   "source": [
    "df.columns"
   ]
  },
  {
   "cell_type": "code",
   "execution_count": 402,
   "id": "a53cf467",
   "metadata": {},
   "outputs": [
    {
     "data": {
      "text/html": [
       "<div>\n",
       "<style scoped>\n",
       "    .dataframe tbody tr th:only-of-type {\n",
       "        vertical-align: middle;\n",
       "    }\n",
       "\n",
       "    .dataframe tbody tr th {\n",
       "        vertical-align: top;\n",
       "    }\n",
       "\n",
       "    .dataframe thead th {\n",
       "        text-align: right;\n",
       "    }\n",
       "</style>\n",
       "<table border=\"1\" class=\"dataframe\">\n",
       "  <thead>\n",
       "    <tr style=\"text-align: right;\">\n",
       "      <th></th>\n",
       "      <th>model</th>\n",
       "      <th>test_R2</th>\n",
       "      <th>train_R2</th>\n",
       "      <th>test_MSE</th>\n",
       "      <th>train_MSE</th>\n",
       "    </tr>\n",
       "  </thead>\n",
       "  <tbody>\n",
       "    <tr>\n",
       "      <th>0</th>\n",
       "      <td>base_linear_regression</td>\n",
       "      <td>0.956686</td>\n",
       "      <td>0.932549</td>\n",
       "      <td>0.421468</td>\n",
       "      <td>0.923683</td>\n",
       "    </tr>\n",
       "  </tbody>\n",
       "</table>\n",
       "</div>"
      ],
      "text/plain": [
       "                    model   test_R2  train_R2  test_MSE  train_MSE\n",
       "0  base_linear_regression  0.956686  0.932549  0.421468   0.923683"
      ]
     },
     "execution_count": 402,
     "metadata": {},
     "output_type": "execute_result"
    }
   ],
   "source": [
    "models"
   ]
  },
  {
   "cell_type": "markdown",
   "id": "c38a0cb1",
   "metadata": {},
   "source": [
    "I will remove outlayers and check again"
   ]
  },
  {
   "cell_type": "code",
   "execution_count": 403,
   "id": "854569af",
   "metadata": {},
   "outputs": [],
   "source": [
    "df = df.loc[df.crew<15]"
   ]
  },
  {
   "cell_type": "code",
   "execution_count": 404,
   "id": "b9270bd7",
   "metadata": {},
   "outputs": [
    {
     "data": {
      "text/plain": [
       "<seaborn.axisgrid.PairGrid at 0x7fa938143910>"
      ]
     },
     "execution_count": 404,
     "metadata": {},
     "output_type": "execute_result"
    },
    {
     "data": {
      "image/png": "[encoded data removed]",
      "text/plain": [
       "<Figure size 1080x180 with 7 Axes>"
      ]
     },
     "metadata": {
      "needs_background": "light"
     },
     "output_type": "display_data"
    }
   ],
   "source": [
    "sns.pairplot(df[['Age', 'Tonnage', 'passengers', 'length', 'cabins', 'crew']], y_vars = ['crew']) "
   ]
  },
  {
   "cell_type": "code",
   "execution_count": 405,
   "id": "1b605f50",
   "metadata": {},
   "outputs": [],
   "source": [
    "X = df.drop('crew', axis = 1)\n",
    "y = df.crew\n",
    "X_train, X_test, y_train, y_test = train_test_split(X, y, test_size=0.4, random_state=42)"
   ]
  },
  {
   "cell_type": "code",
   "execution_count": 407,
   "id": "f14e1a47",
   "metadata": {},
   "outputs": [
    {
     "name": "stdout",
     "output_type": "stream",
     "text": [
      "Model name:  linear_regression_no_outlayers\n",
      "test r2 score : 0.9182537853068535\n",
      "train r2 score  : 0.9668060533012272\n",
      "MSE test:  0.8268695391048306\n",
      "MSE train:  0.3182662578535533\n"
     ]
    },
    {
     "data": {
      "text/plain": [
       "(array([ 9.49606533, 10.86718296,  7.89051233,  9.54088769,  6.15146927,\n",
       "         9.19694379,  6.91354787,  7.03274946,  5.40421848,  3.41618029,\n",
       "        10.73388586,  9.99345475,  3.59223136,  6.40919304, 12.11191751,\n",
       "         1.6       ,  8.64330439,  3.15896563,  5.3818073 ,  7.90179819,\n",
       "         6.58651799,  4.04482236, 10.04747686,  7.13546477,  8.21529113,\n",
       "         3.16372802,  2.37512587,  7.11769025, 10.88015678,  3.77321219,\n",
       "        10.09229922, 10.47713706, 11.97612858,  8.87862498, 11.95371741,\n",
       "         4.59738358, 10.35579987,  9.55040728, 10.96048986,  8.92344733,\n",
       "         5.6588276 ,  5.53984109,  8.96260982,  0.59567858,  8.81139145,\n",
       "         8.8562138 ,  4.74837375,  8.20205174,  5.37550785, 11.93130623,\n",
       "         4.4119573 ,  2.88537232,  1.28011326,  3.74268277,  4.31172103,\n",
       "         6.30020334,  7.0866395 ,  1.57023861,  7.93348091, 12.88902043,\n",
       "         2.75727971]),\n",
       " array([11.88648387,  9.45889649, 10.06988804,  9.12209553,  9.09705831,\n",
       "        11.935637  , 11.30922771, 11.25303448, 13.9659989 ,  9.45799432,\n",
       "         3.24      ,  2.90581396, 11.28095054,  6.40091911, 12.19410074,\n",
       "         8.69618531,  7.06899071,  9.23456268,  8.86083802,  3.80669814,\n",
       "         8.75201668, 11.22321347,  2.01709302,  8.84072739, 10.51262441,\n",
       "         4.65140413, 10.28497989, 10.49021324, 11.90889505, 11.94061667,\n",
       "         9.21      ,  5.43534286,  3.93313269, 13.6479394 ,  4.        ,\n",
       "         1.66723353,  1.53276647,  8.62688103, 12.08474395, 12.12956631,\n",
       "         7.19448028,  8.62089321,  8.76656909,  9.99103219,  5.82131144,\n",
       "         7.86810115,  7.90628453,  8.83380262,  5.31086417,  9.48130767,\n",
       "        10.83030041, 13.06100929,  5.93358941,  3.93247618,  5.37787791,\n",
       "        13.56361722,  9.44200568,  7.82356174,  8.39331016,  0.64345523,\n",
       "         9.49647298,  6.01910375, 11.7134642 ,  6.36      ,  6.27779216,\n",
       "         8.04844556,  6.14943398,  8.56503749,  8.46095811,  5.44904083,\n",
       "         8.24696552,  7.87938701,  9.28570408,  2.01709302,  6.51999494,\n",
       "         8.39242626,  8.66571557,  5.63634631, 10.86366649,  7.84597291,\n",
       "         5.34160904, 10.90342117,  8.88990613,  2.03654477, 11.15557604,\n",
       "        10.80932727,  8.47207354, 10.08578109, 11.13483104,  7.27729504]))"
      ]
     },
     "execution_count": 407,
     "metadata": {},
     "output_type": "execute_result"
    }
   ],
   "source": [
    "lr_2 = LinearRegression()\n",
    "lr_2.fit(X_train, y_train)\n",
    "\n",
    "make_pred(lr_2, 'linear_regression_no_outlayers', X_test, X_train, y_test, y_train)"
   ]
  },
  {
   "cell_type": "markdown",
   "id": "cb376365",
   "metadata": {},
   "source": [
    "### 8. Calculate the Pearson correlation coefficient for the training set and testing data sets.\n",
    "The Pearson’s correlation coefficient is calculated as the covariance of the two variables divided by the product of the standard deviation of each data sample. It is the normalization of the covariance between the two variables to give an interpretable score."
   ]
  },
  {
   "cell_type": "code",
   "execution_count": 408,
   "id": "c1315bdf",
   "metadata": {},
   "outputs": [
    {
     "data": {
      "text/plain": [
       "Index(['Age', 'Tonnage', 'passengers', 'length', 'cabins', 'Azamara',\n",
       "       'Carnival', 'Celebrity', 'Costa', 'Crystal', 'Cunard', 'Disney',\n",
       "       'Holland_American', 'MSC', 'Norwegian', 'Oceania', 'Orient', 'P&O',\n",
       "       'Princess', 'Regent_Seven_Seas', 'Royal_Caribbean', 'Seabourn',\n",
       "       'Silversea', 'Star', 'Windstar'],\n",
       "      dtype='object')"
      ]
     },
     "execution_count": 408,
     "metadata": {},
     "output_type": "execute_result"
    }
   ],
   "source": [
    "X_train.columns"
   ]
  },
  {
   "cell_type": "code",
   "execution_count": 409,
   "id": "15f6eb02",
   "metadata": {},
   "outputs": [],
   "source": [
    "from scipy.stats import pearsonr\n",
    "def pearson_coeff(X, y):\n",
    "    for c in X.columns:\n",
    "        corr, _ = pearsonr(X[c], y)\n",
    "        print('Feature:',c,', Pearsons correlation: %.3f' % corr)"
   ]
  },
  {
   "cell_type": "code",
   "execution_count": 410,
   "id": "62797b95",
   "metadata": {
    "scrolled": true
   },
   "outputs": [
    {
     "name": "stdout",
     "output_type": "stream",
     "text": [
      "TRAIN DATA\n",
      "Feature: Age , Pearsons correlation: -0.574\n",
      "Feature: Tonnage , Pearsons correlation: 0.933\n",
      "Feature: passengers , Pearsons correlation: 0.907\n",
      "Feature: length , Pearsons correlation: 0.903\n",
      "Feature: cabins , Pearsons correlation: 0.950\n",
      "Feature: Azamara , Pearsons correlation: nan\n",
      "Feature: Carnival , Pearsons correlation: 0.225\n",
      "Feature: Celebrity , Pearsons correlation: 0.067\n",
      "Feature: Costa , Pearsons correlation: 0.064\n",
      "Feature: Crystal , Pearsons correlation: -0.064\n",
      "Feature: Cunard , Pearsons correlation: 0.033\n",
      "Feature: Disney , Pearsons correlation: 0.059\n",
      "Feature: Holland_American , Pearsons correlation: -0.202\n",
      "Feature: MSC , Pearsons correlation: 0.089\n",
      "Feature: Norwegian , Pearsons correlation: 0.061\n",
      "Feature: Oceania , Pearsons correlation: -0.145\n",
      "Feature: Orient , Pearsons correlation: nan\n",
      "Feature: P&O , Pearsons correlation: 0.031\n",
      "Feature: Princess , Pearsons correlation: 0.078\n",
      "Feature: Regent_Seven_Seas , Pearsons correlation: -0.171\n",
      "Feature: Royal_Caribbean , Pearsons correlation: 0.197\n",
      "Feature: Seabourn , Pearsons correlation: -0.323\n",
      "Feature: Silversea , Pearsons correlation: -0.355\n",
      "Feature: Star , Pearsons correlation: 0.074\n",
      "Feature: Windstar , Pearsons correlation: -0.336\n",
      "TEST DATA\n",
      "Feature: Age , Pearsons correlation: -0.488\n",
      "Feature: Tonnage , Pearsons correlation: 0.929\n",
      "Feature: passengers , Pearsons correlation: 0.931\n",
      "Feature: length , Pearsons correlation: 0.937\n",
      "Feature: cabins , Pearsons correlation: 0.961\n",
      "Feature: Azamara , Pearsons correlation: -0.130\n",
      "Feature: Carnival , Pearsons correlation: 0.333\n",
      "Feature: Celebrity , Pearsons correlation: 0.005\n",
      "Feature: Costa , Pearsons correlation: -0.053\n",
      "Feature: Crystal , Pearsons correlation: -0.052\n",
      "Feature: Cunard , Pearsons correlation: 0.233\n",
      "Feature: Disney , Pearsons correlation: nan\n",
      "Feature: Holland_American , Pearsons correlation: -0.096\n",
      "Feature: MSC , Pearsons correlation: -0.005\n",
      "Feature: Norwegian , Pearsons correlation: 0.013\n",
      "Feature: Oceania , Pearsons correlation: -0.111\n",
      "Feature: Orient , Pearsons correlation: -0.132\n",
      "Feature: P&O , Pearsons correlation: nan\n",
      "Feature: Princess , Pearsons correlation: 0.275\n",
      "Feature: Regent_Seven_Seas , Pearsons correlation: -0.302\n",
      "Feature: Royal_Caribbean , Pearsons correlation: 0.310\n",
      "Feature: Seabourn , Pearsons correlation: -0.209\n",
      "Feature: Silversea , Pearsons correlation: -0.154\n",
      "Feature: Star , Pearsons correlation: -0.298\n",
      "Feature: Windstar , Pearsons correlation: -0.238\n"
     ]
    },
    {
     "name": "stderr",
     "output_type": "stream",
     "text": [
      "/Library/Frameworks/Python.framework/Versions/3.9/lib/python3.9/site-packages/scipy/stats/stats.py:3913: PearsonRConstantInputWarning: An input array is constant; the correlation coefficent is not defined.\n",
      "  warnings.warn(PearsonRConstantInputWarning())\n"
     ]
    }
   ],
   "source": [
    "print('TRAIN DATA')\n",
    "pearson_coeff(X_train, y_train)\n",
    "print('TEST DATA')\n",
    "pearson_coeff(X_test, y_test)"
   ]
  },
  {
   "cell_type": "markdown",
   "id": "e7c5220c",
   "metadata": {},
   "source": [
    "Cruise company name has very small correlation with crew size"
   ]
  },
  {
   "cell_type": "markdown",
   "id": "4fb1febd",
   "metadata": {},
   "source": [
    "### Scale data\n",
    "Our variables are on different scales, for example the Age variable ranges from about 16 years to 48 years, while the Tonnage variable ranges from 2 to 220. It is therefore important that when a regression model is built using these variables, variables be brought to same scale either by standardizing or normalizing the data."
   ]
  },
  {
   "cell_type": "code",
   "execution_count": 411,
   "id": "b384521a",
   "metadata": {},
   "outputs": [],
   "source": [
    "from sklearn.preprocessing import StandardScaler"
   ]
  },
  {
   "cell_type": "code",
   "execution_count": 412,
   "id": "51156ea8",
   "metadata": {},
   "outputs": [],
   "source": [
    "scaler = StandardScaler()\n",
    "X_train_scaled = scaler.fit_transform(X_train[['Age', 'Tonnage', 'passengers', 'length', 'cabins']])\n",
    "X_test_scaled = scaler.transform(X_test[['Age', 'Tonnage', 'passengers', 'length', 'cabins']])"
   ]
  },
  {
   "cell_type": "code",
   "execution_count": 413,
   "id": "71e33d33",
   "metadata": {},
   "outputs": [
    {
     "data": {
      "text/plain": [
       "array([[-1.76555337e-01,  1.86093091e+00,  1.22733959e+00,\n",
       "         1.15001181e+00,  1.49988068e+00],\n",
       "       [-5.77143077e-01,  4.73074641e-01,  9.61362601e-03,\n",
       "         7.87463520e-01,  1.14752347e-01],\n",
       "       [-4.43613831e-01,  4.54309716e-01,  7.15681047e-02,\n",
       "         7.93937597e-01,  8.55917506e-02],\n",
       "       [ 9.05031561e-02,  5.66549109e-02, -8.86589954e-02,\n",
       "         1.53004011e-01, -1.16102375e-02],\n",
       "       [ 2.24032403e-01,  5.66549109e-02, -8.01135501e-02,\n",
       "         1.53004011e-01, -1.16102375e-02],\n",
       "       [-1.24478931e+00,  1.11272815e+00,  1.94088427e+00,\n",
       "         7.03300524e-01,  1.49988068e+00],\n",
       "       [-1.24478931e+00,  1.08280004e+00,  1.96011152e+00,\n",
       "         7.03300524e-01,  1.36136784e+00],\n",
       "       [-1.76555337e-01,  2.93305460e-02, -5.34090334e-03,\n",
       "         2.37167007e-01,  6.61513530e-02],\n",
       "       [-1.37831856e+00,  2.51934935e+00,  1.78279353e+00,\n",
       "         1.74562686e+00,  2.13169360e+00],\n",
       "       [-1.76555337e-01,  2.14884832e-01, -2.29658844e-01,\n",
       "         7.87463520e-01, -1.57413220e-01],\n",
       "       [-1.76555337e-01, -1.28152070e+00, -1.57556648e+00,\n",
       "        -1.82806344e+00, -1.68834453e+00],\n",
       "       [-4.43613831e-01, -1.52094558e+00, -1.68452091e+00,\n",
       "        -1.58852260e+00, -1.81227707e+00],\n",
       "       [-1.24478931e+00,  5.14165937e-01,  4.58249506e-01,\n",
       "         7.93937597e-01,  6.25062785e-01],\n",
       "       [ 1.55932487e+00, -6.56861173e-01, -5.03113094e-01,\n",
       "        -2.87233200e-01, -4.19858587e-01],\n",
       "       [-1.11126006e+00,  1.20251248e+00,  1.21238506e+00,\n",
       "         7.03300524e-01,  1.49988068e+00],\n",
       "       [-9.77730817e-01,  5.02502953e-02, -1.60227100e-02,\n",
       "         8.82632447e-02,  8.55917506e-02],\n",
       "       [-4.43613831e-01, -5.15361066e-01, -4.26204086e-01,\n",
       "        -1.18907207e-01, -3.80977792e-01],\n",
       "       [-8.44201571e-01,  2.74741053e-01,  3.20454200e-03,\n",
       "         5.99715298e-01,  1.07462198e-01],\n",
       "       [ 9.05031561e-02,  5.02502953e-02, -1.60227100e-02,\n",
       "         8.82632447e-02,  2.67845478e-01],\n",
       "       [ 1.29226638e+00, -1.13188014e+00, -1.29890769e+00,\n",
       "        -1.09001870e+00, -1.32140703e+00],\n",
       "       [ 1.02520788e+00, -1.63196989e-01,  9.72044407e-02,\n",
       "         8.17891681e-02,  1.99804087e-01],\n",
       "       [-8.44201571e-01,  1.11272815e+00,  7.57340093e-01,\n",
       "         7.03300524e-01,  9.65269743e-01],\n",
       "       [ 4.91090896e-01, -1.76635609e+00, -1.78279353e+00,\n",
       "        -2.12587096e+00, -1.92405935e+00],\n",
       "       [-1.37831856e+00,  3.04669163e-01,  1.48477113e-01,\n",
       "         6.06189375e-01,  1.99804087e-01],\n",
       "       [-8.44201571e-01,  8.73303264e-01,  8.06476404e-01,\n",
       "         3.08381850e-01,  1.01144069e+00],\n",
       "       [ 3.29520508e+00, -1.43116125e+00, -8.70567244e-01,\n",
       "        -1.09001870e+00, -1.31168683e+00],\n",
       "       [-8.44201571e-01,  1.55028610e-01,  1.91204339e-01,\n",
       "         5.09078225e-01,  3.21306572e-01],\n",
       "       [-7.10672324e-01,  8.73303264e-01,  8.06476404e-01,\n",
       "         3.08381850e-01,  1.01144069e+00],\n",
       "       [-3.10084584e-01,  1.86093091e+00,  1.22733959e+00,\n",
       "         1.15001181e+00,  1.49988068e+00],\n",
       "       [-1.24478931e+00,  1.03009664e+00,  1.85329346e+00,\n",
       "         7.03300524e-01,  1.32977720e+00],\n",
       "       [ 3.82932206e+00, -1.64394114e-01, -1.85863436e-01,\n",
       "         7.80989444e-01,  2.48405081e-02],\n",
       "       [ 1.29226638e+00, -1.24411056e+00, -9.75248949e-01,\n",
       "        -1.47198922e+00, -1.00550057e+00],\n",
       "       [-1.76555337e-01, -1.36301494e+00, -1.36620307e+00,\n",
       "        -1.61441891e+00, -1.44776961e+00],\n",
       "       [-1.24478931e+00,  2.45949312e+00,  2.56897451e+00,\n",
       "         1.82978986e+00,  2.09038276e+00],\n",
       "       [-4.30260906e-02, -1.36301494e+00, -1.36833944e+00,\n",
       "        -1.60794483e+00, -1.45262971e+00],\n",
       "       [ 7.58149389e-01, -1.96986724e+00, -1.87679343e+00,\n",
       "        -2.60495263e+00, -2.03098154e+00],\n",
       "       [ 1.55932487e+00, -1.96986724e+00, -1.87679343e+00,\n",
       "        -2.60495263e+00, -2.03098154e+00],\n",
       "       [-7.10672324e-01,  3.53161681e-02,  5.44772140e-02,\n",
       "         8.82632447e-02,  8.55917506e-02],\n",
       "       [-7.10672324e-01,  1.02294382e+00,  1.07779429e+00,\n",
       "         7.03300524e-01,  1.32977720e+00],\n",
       "       [-9.77730817e-01,  1.02294382e+00,  1.07779429e+00,\n",
       "         7.03300524e-01,  1.32977720e+00],\n",
       "       [ 3.57561649e-01, -1.74180606e-01, -1.76249810e-01,\n",
       "         1.59478088e-01, -9.66619770e-02],\n",
       "       [-4.43613831e-01,  4.27075135e-01,  5.72544838e-01,\n",
       "         7.74515367e-01,  2.67845478e-01],\n",
       "       [ 8.91678636e-01, -1.63196989e-01,  9.29317181e-02,\n",
       "         8.17891681e-02,  1.94943987e-01],\n",
       "       [-4.43613831e-01,  3.79489440e-01,  1.69840726e-01,\n",
       "         7.80989444e-01,  2.82425777e-01],\n",
       "       [ 6.24620143e-01, -6.81492008e-01, -6.63340194e-01,\n",
       "        -7.79263023e-01, -6.36133011e-01],\n",
       "       [ 7.58149389e-01, -7.49997453e-01, -2.31795205e-01,\n",
       "        -5.72092571e-01, -1.59843269e-01],\n",
       "       [ 1.29226638e+00, -7.86500770e-02,  9.47476252e-01,\n",
       "         2.43641084e-01,  4.81689852e-01],\n",
       "       [ 4.91090896e-01, -1.63196989e-01,  9.29317181e-02,\n",
       "         8.17891681e-02,  1.94943987e-01],\n",
       "       [ 1.02520788e+00, -8.15749512e-01,  5.87499367e-02,\n",
       "        -9.73485322e-01, -3.39666947e-01],\n",
       "       [-7.10672324e-01,  4.73074641e-01,  9.61362601e-03,\n",
       "         7.87463520e-01,  1.14752347e-01],\n",
       "       [ 2.24032403e-01,  7.64155445e-01,  7.23158312e-01,\n",
       "         3.21330003e-01,  9.26388948e-01],\n",
       "       [-1.37831856e+00,  1.72625442e+00,  2.12995225e+00,\n",
       "         1.62261941e+00,  1.69428465e+00],\n",
       "       [ 9.05031561e-02, -4.83876694e-01, -6.88976531e-01,\n",
       "        -4.23188809e-01, -6.79873906e-01],\n",
       "       [-1.76555337e-01, -1.36301494e+00, -1.36406671e+00,\n",
       "        -1.61441891e+00, -1.44776961e+00],\n",
       "       [ 6.24620143e-01, -6.09604687e-01, -7.48794648e-01,\n",
       "        -7.98685253e-01, -7.47915297e-01],\n",
       "       [-1.11126006e+00,  2.45949312e+00,  2.56897451e+00,\n",
       "         1.74562686e+00,  2.09038276e+00],\n",
       "       [-4.30260906e-02,  2.25000533e-01, -2.29658844e-01,\n",
       "         7.87463520e-01, -1.57413220e-01],\n",
       "       [ 2.24032403e-01, -5.03680125e-02, -1.60227100e-02,\n",
       "         4.76707842e-01,  8.55917506e-02],\n",
       "       [-5.77143077e-01,  2.74741053e-01, -1.24977138e-01,\n",
       "         7.03300524e-01, -3.83407842e-02],\n",
       "       [ 1.29226638e+00, -2.10903295e+00, -1.93020247e+00,\n",
       "        -2.60495263e+00, -2.10388303e+00],\n",
       "       [-4.30260906e-02, -1.44243517e-02, -9.61362601e-03,\n",
       "         2.37167007e-01,  1.05032148e-01],\n",
       "       [ 1.55932487e+00, -6.56861173e-01, -5.03113094e-01,\n",
       "        -2.87233200e-01, -4.68459582e-01],\n",
       "       [-1.37831856e+00,  1.17258437e+00,  1.71870269e+00,\n",
       "         3.73122616e-01,  1.43912943e+00],\n",
       "       [-7.10672324e-01, -2.34036827e-01, -9.45339891e-01,\n",
       "        -3.39025813e-01, -9.47179373e-01],\n",
       "       [-1.76555337e-01, -3.83677380e-01, -5.60794850e-01,\n",
       "        -4.23188809e-01, -5.34070923e-01],\n",
       "       [ 3.57561649e-01, -1.99529716e-01, -8.86589954e-02,\n",
       "         6.88410148e-02, -6.26412812e-02],\n",
       "       [-3.10084584e-01, -4.43533601e-01, -6.24885690e-01,\n",
       "        -4.03766579e-01, -6.11832514e-01],\n",
       "       [-3.10084584e-01,  5.38805751e-03, -9.72044407e-02,\n",
       "         2.82485544e-01, -1.89003866e-03],\n",
       "       [ 3.57561649e-01, -1.56044171e-01, -2.08295230e-01,\n",
       "        -1.77173897e-01, -1.57413220e-01],\n",
       "       [ 2.24032403e-01, -6.09604687e-01, -7.46658287e-01,\n",
       "        -7.98685253e-01, -7.45485248e-01],\n",
       "       [ 1.15873713e+00, -1.07043773e+00, -7.24226493e-01,\n",
       "        -1.70505598e+00, -3.97988140e-01],\n",
       "       [ 9.05031561e-02,  7.99389809e-02,  5.02044914e-01,\n",
       "         4.70233766e-01,  1.46342993e-01],\n",
       "       [-7.10672324e-01,  3.04669163e-01,  1.59158919e-01,\n",
       "         7.61567214e-01,  2.82425777e-01],\n",
       "       [ 4.91090896e-01, -1.76635609e+00, -1.78279353e+00,\n",
       "        -2.12587096e+00, -1.92405935e+00],\n",
       "       [ 1.42579562e+00, -8.54685984e-01, -5.11658540e-01,\n",
       "        -7.79263023e-01, -4.78179780e-01],\n",
       "       [-7.10672324e-01,  1.78043327e-01, -1.24977138e-01,\n",
       "         7.55093137e-01, -3.83407842e-02],\n",
       "       [-7.10672324e-01,  4.27075135e-01,  5.72544838e-01,\n",
       "         7.74515367e-01,  2.67845478e-01],\n",
       "       [ 1.82638336e+00, -9.41896498e-01, -8.17158211e-01,\n",
       "        -5.72092571e-01, -8.25676888e-01],\n",
       "       [-4.30260906e-02,  9.87209653e-01,  6.78294724e-01,\n",
       "         7.03300524e-01,  8.75357904e-01],\n",
       "       [ 9.05031561e-02, -5.03680125e-02, -1.60227100e-02,\n",
       "         4.76707842e-01,  8.55917506e-02],\n",
       "       [ 1.82638336e+00, -9.22383370e-01, -8.40658185e-01,\n",
       "        -5.72092571e-01, -9.95780367e-01],\n",
       "       [-9.77730817e-01,  4.54309716e-01,  2.98022406e-01,\n",
       "         7.93937597e-01,  4.42809057e-01],\n",
       "       [-8.44201571e-01,  4.27075135e-01,  5.72544838e-01,\n",
       "         7.74515367e-01,  3.74767665e-01],\n",
       "       [ 1.02520788e+00, -1.82785836e+00, -1.76997537e+00,\n",
       "        -1.45904107e+00, -1.90461896e+00],\n",
       "       [-3.10084584e-01,  7.68824230e-01,  8.47067269e-01,\n",
       "         3.27804080e-01,  1.06733183e+00],\n",
       "       [-5.77143077e-01,  4.24381606e-01,  2.93749684e-01,\n",
       "         7.93937597e-01,  4.37948957e-01],\n",
       "       [ 3.57561649e-01,  5.02502953e-02, -1.60227100e-02,\n",
       "         8.82632447e-02,  8.55917506e-02],\n",
       "       [-8.44201571e-01,  3.79489440e-01,  1.69840726e-01,\n",
       "         7.80989444e-01,  2.97006075e-01],\n",
       "       [-8.44201571e-01,  1.20251248e+00,  6.78294724e-01,\n",
       "         7.03300524e-01,  8.75357904e-01],\n",
       "       [ 8.91678636e-01, -1.78819463e-01, -4.00567750e-01,\n",
       "        -2.54862817e-01, -3.51817196e-01]])"
      ]
     },
     "execution_count": 413,
     "metadata": {},
     "output_type": "execute_result"
    }
   ],
   "source": [
    "X_train_scaled"
   ]
  },
  {
   "cell_type": "code",
   "execution_count": 414,
   "id": "b974ca94",
   "metadata": {
    "scrolled": false
   },
   "outputs": [
    {
     "name": "stdout",
     "output_type": "stream",
     "text": [
      "Model name:  linear_regression_scaled_data\n",
      "test r2 score : 0.9376323322326404\n",
      "train r2 score  : 0.9279215247684087\n",
      "MSE test:  0.6308539777091771\n",
      "MSE train:  0.6910942766741454\n"
     ]
    },
    {
     "data": {
      "text/plain": [
       "(array([ 8.8145396 , 10.60573415,  7.6310276 ,  8.85997162,  3.79808407,\n",
       "         9.65251253,  6.59709855,  7.41744922,  5.89831515,  3.56693524,\n",
       "         9.71885554,  9.76700358,  4.05692276,  6.42464422, 12.15765361,\n",
       "         1.44292935,  9.06067744,  0.23897131,  5.87559914,  8.47808439,\n",
       "         6.09242285,  3.80315579,  9.01251573,  7.88516953,  9.3594239 ,\n",
       "         0.24441663,  2.27276117,  7.68806762, 10.69352308,  4.20588036,\n",
       "         9.05794775, 10.63434209, 12.63723832,  8.93320965, 12.61452231,\n",
       "         5.66269532, 11.14493509,  5.39722376, 10.95005609,  8.97864167,\n",
       "         5.99300819,  5.37570342,  6.84428125,  1.20996386,  8.86506162,\n",
       "         8.91049364,  4.32239331,  9.35505815,  4.55753592, 12.59180629,\n",
       "         4.67298568,  2.95679683,  0.90943068,  2.62126932,  4.06696557,\n",
       "         6.81382813,  7.55366941,  0.63937734,  8.3992091 ,  9.93411819,\n",
       "         3.12768126]),\n",
       " array([12.54637427,  9.23969548,  9.03523174,  8.40139696,  8.36709777,\n",
       "        11.65976414, 11.12170299,  8.708314  , 14.64278026,  8.56301544,\n",
       "         2.95629601,  2.97082546, 10.66230088,  7.06345625, 12.59156413,\n",
       "         8.79957049,  7.53639871,  9.18116211,  9.30597709,  4.28270793,\n",
       "         8.80947225, 11.17735809,  2.1610665 ,  9.41822896, 11.04078498,\n",
       "         3.50789497,  9.70144255, 11.01806897, 12.56909028, 11.16655775,\n",
       "         8.64405277,  4.75667586,  3.79044893, 13.49119032,  3.75772377,\n",
       "         1.51107739,  1.37478132,  8.66405793, 12.12949228, 12.1749243 ,\n",
       "         8.24372296,  9.03796143,  8.8196296 ,  9.6617784 ,  6.21826192,\n",
       "         7.60831158,  8.78093369,  8.88777763,  6.17661288,  9.26241149,\n",
       "        10.70181031, 12.70828836,  6.40569232,  3.78755314,  5.86931981,\n",
       "        13.39768523,  8.53658705,  8.95877126,  8.84609505,  1.26842695,\n",
       "         8.85424931,  6.87995367, 11.45458688,  5.85931959,  6.79111212,\n",
       "         8.18651569,  6.6454005 ,  8.64554946,  7.76796943,  5.94374718,\n",
       "         6.47315053,  8.45536838,  9.73281185,  2.1610665 ,  6.53630849,\n",
       "         8.9478608 ,  9.08339345,  5.77647121, 10.85479086,  8.98148727,\n",
       "         5.15890477, 10.1678855 ,  9.50981514,  2.70966683, 11.16060765,\n",
       "        10.09816216,  8.57241038,  9.78497721, 10.91207265,  7.14673117]))"
      ]
     },
     "execution_count": 414,
     "metadata": {},
     "output_type": "execute_result"
    }
   ],
   "source": [
    "lr_s = LinearRegression()\n",
    "lr_s.fit(X_train_scaled, y_train)\n",
    "\n",
    "make_pred(lr_s, 'linear_regression_scaled_data', X_test_scaled, X_train_scaled, y_test, y_train)"
   ]
  },
  {
   "cell_type": "markdown",
   "id": "c6adb03d",
   "metadata": {},
   "source": [
    "We can see, that our model performes much better on scaled data, no sign of overfitting."
   ]
  },
  {
   "cell_type": "markdown",
   "id": "ad842ed7",
   "metadata": {},
   "source": [
    "### Add polinomial features \n",
    "I want to check if our model will perform better with polinomial features"
   ]
  },
  {
   "cell_type": "code",
   "execution_count": 415,
   "id": "bf0e3cb5",
   "metadata": {},
   "outputs": [],
   "source": [
    "from sklearn.preprocessing import PolynomialFeatures"
   ]
  },
  {
   "cell_type": "code",
   "execution_count": 416,
   "id": "3f669d71",
   "metadata": {},
   "outputs": [],
   "source": [
    "pf = PolynomialFeatures(degree = 2)\n",
    "X_train_poly = pf.fit_transform(X_train_scaled)\n",
    "X_test_poly = pf.transform(X_test_scaled)"
   ]
  },
  {
   "cell_type": "code",
   "execution_count": 417,
   "id": "9b9e6810",
   "metadata": {},
   "outputs": [
    {
     "data": {
      "text/plain": [
       "array([[ 1.00000000e+00, -1.76555337e-01,  3.84286916e-02, ...,\n",
       "         4.73908532e-03,  1.02416872e-02,  2.21334183e-02],\n",
       "       [ 1.00000000e+00, -1.76555337e-01,  7.68824230e-01, ...,\n",
       "         1.07455515e-01,  3.03674077e-01,  8.58196482e-01],\n",
       "       [ 1.00000000e+00,  6.24620143e-01, -7.49997453e-01, ...,\n",
       "         3.27289910e-01,  9.14451469e-02,  2.55498707e-02],\n",
       "       ...,\n",
       "       [ 1.00000000e+00,  2.24032403e-01, -1.95719867e-02, ...,\n",
       "         8.65102768e-03, -5.47473360e-03,  3.46464132e-03],\n",
       "       [ 1.00000000e+00, -7.10672324e-01,  2.26196759e+00, ...,\n",
       "         3.51603149e+00,  8.84994259e-01,  2.22755354e-01],\n",
       "       [ 1.00000000e+00,  2.76108809e+00, -1.76479983e+00, ...,\n",
       "         3.80667763e+00,  2.63979438e+00,  1.83060270e+00]])"
      ]
     },
     "execution_count": 417,
     "metadata": {},
     "output_type": "execute_result"
    }
   ],
   "source": [
    "X_test_poly"
   ]
  },
  {
   "cell_type": "code",
   "execution_count": 418,
   "id": "57ac5bd6",
   "metadata": {},
   "outputs": [
    {
     "data": {
      "text/plain": [
       "LinearRegression()"
      ]
     },
     "execution_count": 418,
     "metadata": {},
     "output_type": "execute_result"
    }
   ],
   "source": [
    "lr_p = LinearRegression()\n",
    "lr_p.fit(X_train_poly, y_train)"
   ]
  },
  {
   "cell_type": "code",
   "execution_count": 419,
   "id": "482e3d9d",
   "metadata": {},
   "outputs": [
    {
     "name": "stdout",
     "output_type": "stream",
     "text": [
      "Model name:  linear_regression_scaled_data_2_poly\n",
      "test r2 score : 0.9276283104857755\n",
      "train r2 score  : 0.9417713599440939\n",
      "MSE test:  0.7320454626247279\n",
      "MSE train:  0.5583009317533147\n"
     ]
    },
    {
     "data": {
      "text/plain": [
       "(array([ 9.1116777 , 10.66587739,  7.57850686,  9.16172889,  4.55156249,\n",
       "         9.69973438,  6.38562267,  6.68198417,  6.10936964,  2.58016956,\n",
       "         9.85293193,  9.66429197,  3.73609856,  6.15997645, 12.36422298,\n",
       "         1.59147959,  8.64168063,  0.17265968,  6.09197424,  7.75458952,\n",
       "         6.35485213,  3.91306228,  9.67524448,  7.46615099,  8.84610117,\n",
       "         0.18926222,  2.30559573,  8.179317  , 11.12051724,  4.18825252,\n",
       "         9.51519864, 10.90345781, 11.85232964,  8.86399681, 11.81432276,\n",
       "         4.86164489, 11.09059715,  6.13129938, 11.30094649,  8.92744325,\n",
       "         6.17043466,  5.11379308,  7.10665644,  1.30249193,  8.77121432,\n",
       "         8.83275103,  3.98347506,  8.85796741,  4.87560687, 11.77663417,\n",
       "         4.50229398,  2.32205355,  0.95009893,  1.16724988,  4.38655044,\n",
       "         6.97452019,  6.92732692,  2.45218006,  8.71516312, 15.14738628,\n",
       "         3.08056269]),\n",
       " array([11.70221184,  9.86311789,  9.59506241,  8.76738001,  8.75926832,\n",
       "        11.95785857, 11.25066535,  8.84228835, 13.38955847,  8.92635912,\n",
       "         2.75170503,  2.29217285, 10.77001156,  6.74267307, 12.57185088,\n",
       "         9.06619337,  6.92256998,  9.26819739,  9.59431424,  4.26435445,\n",
       "         8.68885999, 11.34351499,  2.130954  ,  9.17466035, 11.01102826,\n",
       "         3.41789477,  9.55236308, 10.92293185, 11.73926386, 11.30243187,\n",
       "         9.2717727 ,  4.91954673,  3.90997778, 13.85490184,  3.84605656,\n",
       "         1.82403115,  1.36179262,  8.84277271, 12.26884341, 12.43732743,\n",
       "         8.21833387,  8.73970393,  8.71095076,  9.86647905,  6.40014099,\n",
       "         7.50829938,  8.30456468,  8.80182353,  6.56129173,  9.79870689,\n",
       "        10.46508061, 12.83630301,  6.51249625,  3.90480073,  6.08582691,\n",
       "        13.63471086,  9.06204134,  8.61960344,  9.07818651,  1.44791141,\n",
       "         8.93651836,  6.61344407, 11.58333362,  5.95131995,  6.97355205,\n",
       "         8.13916133,  6.68991586,  8.70358691,  8.07272297,  6.1451153 ,\n",
       "         6.70416719,  7.83347872,  9.61173977,  2.130954  ,  6.40382817,\n",
       "         8.62232399,  8.54397563,  5.44076192, 11.19565102,  8.5948786 ,\n",
       "         5.08992467, 10.25210655,  8.99564224,  1.32674335, 11.12717278,\n",
       "        10.24023724,  8.91853376,  9.81010324, 10.9776651 ,  7.62544665]))"
      ]
     },
     "execution_count": 419,
     "metadata": {},
     "output_type": "execute_result"
    }
   ],
   "source": [
    "make_pred(lr_p, 'linear_regression_scaled_data_2_poly', X_test_poly, X_train_poly, y_test, y_train)"
   ]
  },
  {
   "cell_type": "markdown",
   "id": "dd566929",
   "metadata": {},
   "source": [
    "We can see that model performes worse, we can see sign of overfitting again. "
   ]
  },
  {
   "cell_type": "markdown",
   "id": "1343a15c",
   "metadata": {},
   "source": [
    "### Regularization to prevent over-fitting\n",
    "\n",
    "We have trained the model on unscaled data with all features, and got good scores while using training data. But during the process of prediction, we found that the model is underperforming when compared to the training part. Now, this may be a case of over-fitting which is causing incorrect prediction by the model. Regularizing the model, in this case, can help resolve the problem.\n",
    "\n",
    "\n",
    "The two types of regularization are\n",
    "- L1 regularization or LASSO regression\n",
    "- L2 regularization or Ridge regression\n"
   ]
  },
  {
   "cell_type": "code",
   "execution_count": 420,
   "id": "f9fa7556",
   "metadata": {},
   "outputs": [],
   "source": [
    "def ridge_reg(a, X_train, X_test, y_train = y_train, y_test = y_test):\n",
    "    ridge = Ridge(alpha = a)\n",
    "    ridge.fit(X_train, y_train)\n",
    "    y_pred_test, y_pred_train = make_pred(ridge, f'ridge_alpha_{a}', X_test, X_train, y_test, y_train)\n",
    "    "
   ]
  },
  {
   "cell_type": "code",
   "execution_count": 421,
   "id": "d6eb4958",
   "metadata": {},
   "outputs": [
    {
     "data": {
      "text/html": [
       "<div>\n",
       "<style scoped>\n",
       "    .dataframe tbody tr th:only-of-type {\n",
       "        vertical-align: middle;\n",
       "    }\n",
       "\n",
       "    .dataframe tbody tr th {\n",
       "        vertical-align: top;\n",
       "    }\n",
       "\n",
       "    .dataframe thead th {\n",
       "        text-align: right;\n",
       "    }\n",
       "</style>\n",
       "<table border=\"1\" class=\"dataframe\">\n",
       "  <thead>\n",
       "    <tr style=\"text-align: right;\">\n",
       "      <th></th>\n",
       "      <th>Age</th>\n",
       "      <th>Tonnage</th>\n",
       "      <th>passengers</th>\n",
       "      <th>length</th>\n",
       "      <th>cabins</th>\n",
       "      <th>Azamara</th>\n",
       "      <th>Carnival</th>\n",
       "      <th>Celebrity</th>\n",
       "      <th>Costa</th>\n",
       "      <th>Crystal</th>\n",
       "      <th>...</th>\n",
       "      <th>Oceania</th>\n",
       "      <th>Orient</th>\n",
       "      <th>P&amp;O</th>\n",
       "      <th>Princess</th>\n",
       "      <th>Regent_Seven_Seas</th>\n",
       "      <th>Royal_Caribbean</th>\n",
       "      <th>Seabourn</th>\n",
       "      <th>Silversea</th>\n",
       "      <th>Star</th>\n",
       "      <th>Windstar</th>\n",
       "    </tr>\n",
       "  </thead>\n",
       "  <tbody>\n",
       "    <tr>\n",
       "      <th>141</th>\n",
       "      <td>14</td>\n",
       "      <td>138.000</td>\n",
       "      <td>31.14</td>\n",
       "      <td>10.20</td>\n",
       "      <td>15.57</td>\n",
       "      <td>0</td>\n",
       "      <td>0</td>\n",
       "      <td>0</td>\n",
       "      <td>0</td>\n",
       "      <td>0</td>\n",
       "      <td>...</td>\n",
       "      <td>0</td>\n",
       "      <td>0</td>\n",
       "      <td>0</td>\n",
       "      <td>0</td>\n",
       "      <td>0</td>\n",
       "      <td>1</td>\n",
       "      <td>0</td>\n",
       "      <td>0</td>\n",
       "      <td>0</td>\n",
       "      <td>0</td>\n",
       "    </tr>\n",
       "    <tr>\n",
       "      <th>98</th>\n",
       "      <td>11</td>\n",
       "      <td>91.627</td>\n",
       "      <td>19.74</td>\n",
       "      <td>9.64</td>\n",
       "      <td>9.87</td>\n",
       "      <td>0</td>\n",
       "      <td>0</td>\n",
       "      <td>0</td>\n",
       "      <td>0</td>\n",
       "      <td>0</td>\n",
       "      <td>...</td>\n",
       "      <td>0</td>\n",
       "      <td>0</td>\n",
       "      <td>0</td>\n",
       "      <td>1</td>\n",
       "      <td>0</td>\n",
       "      <td>0</td>\n",
       "      <td>0</td>\n",
       "      <td>0</td>\n",
       "      <td>0</td>\n",
       "      <td>0</td>\n",
       "    </tr>\n",
       "    <tr>\n",
       "      <th>27</th>\n",
       "      <td>12</td>\n",
       "      <td>91.000</td>\n",
       "      <td>20.32</td>\n",
       "      <td>9.65</td>\n",
       "      <td>9.75</td>\n",
       "      <td>0</td>\n",
       "      <td>0</td>\n",
       "      <td>1</td>\n",
       "      <td>0</td>\n",
       "      <td>0</td>\n",
       "      <td>...</td>\n",
       "      <td>0</td>\n",
       "      <td>0</td>\n",
       "      <td>0</td>\n",
       "      <td>0</td>\n",
       "      <td>0</td>\n",
       "      <td>0</td>\n",
       "      <td>0</td>\n",
       "      <td>0</td>\n",
       "      <td>0</td>\n",
       "      <td>0</td>\n",
       "    </tr>\n",
       "    <tr>\n",
       "      <th>28</th>\n",
       "      <td>16</td>\n",
       "      <td>77.713</td>\n",
       "      <td>18.82</td>\n",
       "      <td>8.66</td>\n",
       "      <td>9.35</td>\n",
       "      <td>0</td>\n",
       "      <td>0</td>\n",
       "      <td>1</td>\n",
       "      <td>0</td>\n",
       "      <td>0</td>\n",
       "      <td>...</td>\n",
       "      <td>0</td>\n",
       "      <td>0</td>\n",
       "      <td>0</td>\n",
       "      <td>0</td>\n",
       "      <td>0</td>\n",
       "      <td>0</td>\n",
       "      <td>0</td>\n",
       "      <td>0</td>\n",
       "      <td>0</td>\n",
       "      <td>0</td>\n",
       "    </tr>\n",
       "    <tr>\n",
       "      <th>26</th>\n",
       "      <td>17</td>\n",
       "      <td>77.713</td>\n",
       "      <td>18.90</td>\n",
       "      <td>8.66</td>\n",
       "      <td>9.35</td>\n",
       "      <td>0</td>\n",
       "      <td>0</td>\n",
       "      <td>1</td>\n",
       "      <td>0</td>\n",
       "      <td>0</td>\n",
       "      <td>...</td>\n",
       "      <td>0</td>\n",
       "      <td>0</td>\n",
       "      <td>0</td>\n",
       "      <td>0</td>\n",
       "      <td>0</td>\n",
       "      <td>0</td>\n",
       "      <td>0</td>\n",
       "      <td>0</td>\n",
       "      <td>0</td>\n",
       "      <td>0</td>\n",
       "    </tr>\n",
       "    <tr>\n",
       "      <th>...</th>\n",
       "      <td>...</td>\n",
       "      <td>...</td>\n",
       "      <td>...</td>\n",
       "      <td>...</td>\n",
       "      <td>...</td>\n",
       "      <td>...</td>\n",
       "      <td>...</td>\n",
       "      <td>...</td>\n",
       "      <td>...</td>\n",
       "      <td>...</td>\n",
       "      <td>...</td>\n",
       "      <td>...</td>\n",
       "      <td>...</td>\n",
       "      <td>...</td>\n",
       "      <td>...</td>\n",
       "      <td>...</td>\n",
       "      <td>...</td>\n",
       "      <td>...</td>\n",
       "      <td>...</td>\n",
       "      <td>...</td>\n",
       "      <td>...</td>\n",
       "    </tr>\n",
       "    <tr>\n",
       "      <th>75</th>\n",
       "      <td>11</td>\n",
       "      <td>90.000</td>\n",
       "      <td>22.40</td>\n",
       "      <td>9.65</td>\n",
       "      <td>11.20</td>\n",
       "      <td>0</td>\n",
       "      <td>0</td>\n",
       "      <td>0</td>\n",
       "      <td>0</td>\n",
       "      <td>0</td>\n",
       "      <td>...</td>\n",
       "      <td>0</td>\n",
       "      <td>0</td>\n",
       "      <td>0</td>\n",
       "      <td>0</td>\n",
       "      <td>0</td>\n",
       "      <td>0</td>\n",
       "      <td>0</td>\n",
       "      <td>0</td>\n",
       "      <td>0</td>\n",
       "      <td>0</td>\n",
       "    </tr>\n",
       "    <tr>\n",
       "      <th>112</th>\n",
       "      <td>18</td>\n",
       "      <td>77.499</td>\n",
       "      <td>19.50</td>\n",
       "      <td>8.56</td>\n",
       "      <td>9.75</td>\n",
       "      <td>0</td>\n",
       "      <td>0</td>\n",
       "      <td>0</td>\n",
       "      <td>0</td>\n",
       "      <td>0</td>\n",
       "      <td>...</td>\n",
       "      <td>0</td>\n",
       "      <td>0</td>\n",
       "      <td>0</td>\n",
       "      <td>1</td>\n",
       "      <td>0</td>\n",
       "      <td>0</td>\n",
       "      <td>0</td>\n",
       "      <td>0</td>\n",
       "      <td>0</td>\n",
       "      <td>0</td>\n",
       "    </tr>\n",
       "    <tr>\n",
       "      <th>16</th>\n",
       "      <td>9</td>\n",
       "      <td>88.500</td>\n",
       "      <td>21.24</td>\n",
       "      <td>9.63</td>\n",
       "      <td>10.62</td>\n",
       "      <td>0</td>\n",
       "      <td>1</td>\n",
       "      <td>0</td>\n",
       "      <td>0</td>\n",
       "      <td>0</td>\n",
       "      <td>...</td>\n",
       "      <td>0</td>\n",
       "      <td>0</td>\n",
       "      <td>0</td>\n",
       "      <td>0</td>\n",
       "      <td>0</td>\n",
       "      <td>0</td>\n",
       "      <td>0</td>\n",
       "      <td>0</td>\n",
       "      <td>0</td>\n",
       "      <td>0</td>\n",
       "    </tr>\n",
       "    <tr>\n",
       "      <th>97</th>\n",
       "      <td>9</td>\n",
       "      <td>116.000</td>\n",
       "      <td>26.00</td>\n",
       "      <td>9.51</td>\n",
       "      <td>13.00</td>\n",
       "      <td>0</td>\n",
       "      <td>0</td>\n",
       "      <td>0</td>\n",
       "      <td>0</td>\n",
       "      <td>0</td>\n",
       "      <td>...</td>\n",
       "      <td>0</td>\n",
       "      <td>0</td>\n",
       "      <td>0</td>\n",
       "      <td>1</td>\n",
       "      <td>0</td>\n",
       "      <td>0</td>\n",
       "      <td>0</td>\n",
       "      <td>0</td>\n",
       "      <td>0</td>\n",
       "      <td>0</td>\n",
       "    </tr>\n",
       "    <tr>\n",
       "      <th>107</th>\n",
       "      <td>22</td>\n",
       "      <td>69.845</td>\n",
       "      <td>15.90</td>\n",
       "      <td>8.03</td>\n",
       "      <td>7.95</td>\n",
       "      <td>0</td>\n",
       "      <td>0</td>\n",
       "      <td>0</td>\n",
       "      <td>0</td>\n",
       "      <td>0</td>\n",
       "      <td>...</td>\n",
       "      <td>0</td>\n",
       "      <td>0</td>\n",
       "      <td>0</td>\n",
       "      <td>1</td>\n",
       "      <td>0</td>\n",
       "      <td>0</td>\n",
       "      <td>0</td>\n",
       "      <td>0</td>\n",
       "      <td>0</td>\n",
       "      <td>0</td>\n",
       "    </tr>\n",
       "  </tbody>\n",
       "</table>\n",
       "<p>90 rows × 25 columns</p>\n",
       "</div>"
      ],
      "text/plain": [
       "     Age  Tonnage  passengers  length  cabins  Azamara  Carnival  Celebrity  \\\n",
       "141   14  138.000       31.14   10.20   15.57        0         0          0   \n",
       "98    11   91.627       19.74    9.64    9.87        0         0          0   \n",
       "27    12   91.000       20.32    9.65    9.75        0         0          1   \n",
       "28    16   77.713       18.82    8.66    9.35        0         0          1   \n",
       "26    17   77.713       18.90    8.66    9.35        0         0          1   \n",
       "..   ...      ...         ...     ...     ...      ...       ...        ...   \n",
       "75    11   90.000       22.40    9.65   11.20        0         0          0   \n",
       "112   18   77.499       19.50    8.56    9.75        0         0          0   \n",
       "16     9   88.500       21.24    9.63   10.62        0         1          0   \n",
       "97     9  116.000       26.00    9.51   13.00        0         0          0   \n",
       "107   22   69.845       15.90    8.03    7.95        0         0          0   \n",
       "\n",
       "     Costa  Crystal  ...  Oceania  Orient  P&O  Princess  Regent_Seven_Seas  \\\n",
       "141      0        0  ...        0       0    0         0                  0   \n",
       "98       0        0  ...        0       0    0         1                  0   \n",
       "27       0        0  ...        0       0    0         0                  0   \n",
       "28       0        0  ...        0       0    0         0                  0   \n",
       "26       0        0  ...        0       0    0         0                  0   \n",
       "..     ...      ...  ...      ...     ...  ...       ...                ...   \n",
       "75       0        0  ...        0       0    0         0                  0   \n",
       "112      0        0  ...        0       0    0         1                  0   \n",
       "16       0        0  ...        0       0    0         0                  0   \n",
       "97       0        0  ...        0       0    0         1                  0   \n",
       "107      0        0  ...        0       0    0         1                  0   \n",
       "\n",
       "     Royal_Caribbean  Seabourn  Silversea  Star  Windstar  \n",
       "141                1         0          0     0         0  \n",
       "98                 0         0          0     0         0  \n",
       "27                 0         0          0     0         0  \n",
       "28                 0         0          0     0         0  \n",
       "26                 0         0          0     0         0  \n",
       "..               ...       ...        ...   ...       ...  \n",
       "75                 0         0          0     0         0  \n",
       "112                0         0          0     0         0  \n",
       "16                 0         0          0     0         0  \n",
       "97                 0         0          0     0         0  \n",
       "107                0         0          0     0         0  \n",
       "\n",
       "[90 rows x 25 columns]"
      ]
     },
     "execution_count": 421,
     "metadata": {},
     "output_type": "execute_result"
    }
   ],
   "source": [
    "X_train"
   ]
  },
  {
   "cell_type": "code",
   "execution_count": 341,
   "id": "e3af9d46",
   "metadata": {},
   "outputs": [
    {
     "name": "stdout",
     "output_type": "stream",
     "text": [
      "Model name:  ridge_alpha_0\n",
      "test r2 score : 0.9182537853068534\n",
      "train r2 score  : 0.966806053301227\n",
      "MSE test:  0.826869539104832\n",
      "MSE train:  0.3182662578535535\n"
     ]
    }
   ],
   "source": [
    "ridge_reg(0, X_train, X_test)"
   ]
  },
  {
   "cell_type": "code",
   "execution_count": 422,
   "id": "eeecd738",
   "metadata": {},
   "outputs": [
    {
     "name": "stdout",
     "output_type": "stream",
     "text": [
      "Model name:  ridge_alpha_0.0\n",
      "test r2 score : 0.9182537853068534\n",
      "train r2 score  : 0.966806053301227\n",
      "MSE test:  0.826869539104832\n",
      "MSE train:  0.3182662578535535\n",
      "Model name:  ridge_alpha_0.1\n",
      "test r2 score : 0.9270617242652859\n",
      "train r2 score  : 0.9667316108476137\n",
      "MSE test:  0.7377765278337783\n",
      "MSE train:  0.31898001814701826\n",
      "Model name:  ridge_alpha_0.2\n",
      "test r2 score : 0.9331203556728003\n",
      "train r2 score  : 0.9665632267973064\n",
      "MSE test:  0.6764929836557068\n",
      "MSE train:  0.32059449810204854\n",
      "Model name:  ridge_alpha_0.30000000000000004\n",
      "test r2 score : 0.9376425690073436\n",
      "train r2 score  : 0.9663418140152484\n",
      "MSE test:  0.6307504319093807\n",
      "MSE train:  0.3227174218455265\n",
      "Model name:  ridge_alpha_0.4\n",
      "test r2 score : 0.9411877124082992\n",
      "train r2 score  : 0.9660862566293141\n",
      "MSE test:  0.5948910211585312\n",
      "MSE train:  0.32516772682511247\n",
      "Model name:  ridge_alpha_0.5\n",
      "test r2 score : 0.9440575613510714\n",
      "train r2 score  : 0.9658075466769883\n",
      "MSE test:  0.5658622681879116\n",
      "MSE train:  0.3278400204923362\n",
      "Model name:  ridge_alpha_0.6000000000000001\n",
      "test r2 score : 0.9464335959093869\n",
      "train r2 score  : 0.9655129662559491\n",
      "MSE test:  0.5418284874494843\n",
      "MSE train:  0.33066448150301075\n",
      "Model name:  ridge_alpha_0.7000000000000001\n",
      "test r2 score : 0.9484338005183188\n",
      "train r2 score  : 0.9652076819335211\n",
      "MSE test:  0.5215962568891924\n",
      "MSE train:  0.33359157238985876\n",
      "Model name:  ridge_alpha_0.8\n",
      "test r2 score : 0.950139421416191\n",
      "train r2 score  : 0.964895495476333\n",
      "MSE test:  0.5043437642691349\n",
      "MSE train:  0.3365848415055647\n",
      "Model name:  ridge_alpha_0.9\n",
      "test r2 score : 0.9516088926994363\n",
      "train r2 score  : 0.9645792604887289\n",
      "MSE test:  0.4894799440021556\n",
      "MSE train:  0.3396169282598299\n",
      "Model name:  ridge_alpha_1.0\n",
      "test r2 score : 0.9528856782589555\n",
      "train r2 score  : 0.9642611421605122\n",
      "MSE test:  0.4765651553345909\n",
      "MSE train:  0.3426670726369036\n",
      "Model name:  ridge_alpha_1.1\n",
      "test r2 score : 0.9540029768349542\n",
      "train r2 score  : 0.9639427921296182\n",
      "MSE test:  0.4652635903380167\n",
      "MSE train:  0.3457194385980724\n",
      "Model name:  ridge_alpha_1.2000000000000002\n",
      "test r2 score : 0.9549866948911917\n",
      "train r2 score  : 0.9636254721639298\n",
      "MSE test:  0.4553132030470146\n",
      "MSE train:  0.3487619282103611\n",
      "Model name:  ridge_alpha_1.3\n",
      "test r2 score : 0.9558574068463842\n",
      "train r2 score  : 0.9633101445042322\n",
      "MSE test:  0.44650588156080706\n",
      "MSE train:  0.35178531543093955\n",
      "Model name:  ridge_alpha_1.4000000000000001\n",
      "test r2 score : 0.9566316942539959\n",
      "train r2 score  : 0.962997539305781\n",
      "MSE test:  0.43867390213191554\n",
      "MSE train:  0.3547825994718977\n",
      "Model name:  ridge_alpha_1.5\n",
      "test r2 score : 0.9573230883185476\n",
      "train r2 score  : 0.9626882057663351\n",
      "MSE test:  0.4316803955378582\n",
      "MSE train:  0.3577485145805005\n",
      "Model name:  ridge_alpha_1.6\n",
      "test r2 score : 0.9579427501451668\n",
      "train r2 score  : 0.9623825513351392\n",
      "MSE test:  0.42541246630222457\n",
      "MSE train:  0.3606791541002868\n",
      "Model name:  ridge_alpha_1.7000000000000002\n",
      "test r2 score : 0.9584999723586896\n",
      "train r2 score  : 0.9620808720524957\n",
      "MSE test:  0.4197761187770945\n",
      "MSE train:  0.36357167957278214\n",
      "Model name:  ridge_alpha_1.8\n",
      "test r2 score : 0.9590025559001978\n",
      "train r2 score  : 0.9617833761974115\n",
      "MSE test:  0.41469244581574055\n",
      "MSE train:  0.36642409400195036\n",
      "Model name:  ridge_alpha_1.9000000000000001\n",
      "test r2 score : 0.9594570976390876\n",
      "train r2 score  : 0.961490202830994\n",
      "MSE test:  0.4100947195534231\n",
      "MSE train:  0.3692350640585928\n",
      "Model name:  ridge_alpha_2.0\n",
      "test r2 score : 0.9598692130138697\n",
      "train r2 score  : 0.9612014364118362\n",
      "MSE test:  0.405926139377775\n",
      "MSE train:  0.37200377994685696\n",
      "Model name:  ridge_alpha_2.1\n",
      "test r2 score : 0.9602437105263188\n",
      "train r2 score  : 0.960917118365826\n",
      "MSE test:  0.40213806690644344\n",
      "MSE train:  0.3747298444719669\n",
      "Model name:  ridge_alpha_2.2\n",
      "test r2 score : 0.9605847300143011\n",
      "train r2 score  : 0.9606372562792339\n",
      "MSE test:  0.3986886273463104\n",
      "MSE train:  0.37741318489614234\n",
      "Model name:  ridge_alpha_2.3000000000000003\n",
      "test r2 score : 0.9608958533066916\n",
      "train r2 score  : 0.9603618312264468\n",
      "MSE test:  0.39554159021010316\n",
      "MSE train:  0.38005398267970075\n",
      "Model name:  ridge_alpha_2.4000000000000004\n",
      "test r2 score : 0.9611801935659228\n",
      "train r2 score  : 0.960090803626238\n",
      "MSE test:  0.3926654656093246\n",
      "MSE train:  0.382652617330659\n",
      "Model name:  ridge_alpha_2.5\n",
      "test r2 score : 0.9614404680054728\n",
      "train r2 score  : 0.9598241179319863\n",
      "MSE test:  0.39003276871101167\n",
      "MSE train:  0.38520962143453336\n",
      "Model name:  ridge_alpha_2.6\n",
      "test r2 score : 0.9616790575113549\n",
      "train r2 score  : 0.9595617063940536\n",
      "MSE test:  0.38761941666156785\n",
      "MSE train:  0.3877256445803603\n",
      "Model name:  ridge_alpha_2.7\n",
      "test r2 score : 0.9618980558555053\n",
      "train r2 score  : 0.9593034920811163\n",
      "MSE test:  0.3854042307893893\n",
      "MSE train:  0.3902014243919187\n",
      "Model name:  ridge_alpha_2.8000000000000003\n",
      "test r2 score : 0.9620993105698664\n",
      "train r2 score  : 0.9590493913076477\n",
      "MSE test:  0.3833685231602207\n",
      "MSE train:  0.3926377632528393\n",
      "Model name:  ridge_alpha_2.9000000000000004\n",
      "test r2 score : 0.9622844570887971\n",
      "train r2 score  : 0.9587993155840704\n",
      "MSE test:  0.38149575122393387\n",
      "MSE train:  0.39503550960837874\n",
      "Model name:  ridge_alpha_3.0\n",
      "test r2 score : 0.9624549474200881\n",
      "train r2 score  : 0.9585531731822002\n",
      "MSE test:  0.3797712278048911\n",
      "MSE train:  0.397395542955821\n",
      "Model name:  ridge_alpha_3.1\n",
      "test r2 score : 0.9626120743405708\n",
      "train r2 score  : 0.9583108703898909\n",
      "MSE test:  0.37818187636142286\n",
      "MSE train:  0.39971876181483634\n",
      "Model name:  ridge_alpha_3.2\n",
      "test r2 score : 0.9627569919093418\n",
      "train r2 score  : 0.9580723125140722\n",
      "MSE test:  0.37671602349291206\n",
      "MSE train:  0.402006074110277\n",
      "Model name:  ridge_alpha_3.3000000000000003\n",
      "test r2 score : 0.9628907329343932\n",
      "train r2 score  : 0.957837404679742\n",
      "MSE test:  0.37536322226341484\n",
      "MSE train:  0.40425838951137183\n",
      "Model name:  ridge_alpha_3.4000000000000004\n",
      "test r2 score : 0.9630142239056837\n",
      "train r2 score  : 0.9576060524632487\n",
      "MSE test:  0.37411410115245153\n",
      "MSE train:  0.40647661335976293\n",
      "Model name:  ridge_alpha_3.5\n",
      "test r2 score : 0.9631282978111076\n",
      "train r2 score  : 0.9573781623908524\n",
      "MSE test:  0.37296023442044546\n",
      "MSE train:  0.40866164188926446\n",
      "Model name:  ridge_alpha_3.6\n",
      "test r2 score : 0.9632337051753317\n",
      "train r2 score  : 0.9571536423276766\n",
      "MSE test:  0.3718940304500072\n",
      "MSE train:  0.4108143584965553\n",
      "Model name:  ridge_alpha_3.7\n",
      "test r2 score : 0.9633311236004996\n",
      "train r2 score  : 0.9569324017774564\n",
      "MSE test:  0.3709086352409294\n",
      "MSE train:  0.412935630867179\n",
      "Model name:  ridge_alpha_3.8000000000000003\n",
      "test r2 score : 0.9634211660388929\n",
      "train r2 score  : 0.9567143521096907\n",
      "MSE test:  0.3699978487315637\n",
      "MSE train:  0.4150263087975791\n",
      "Model name:  ridge_alpha_3.9000000000000004\n",
      "test r2 score : 0.9635043879882004\n",
      "train r2 score  : 0.9564994067277548\n",
      "MSE test:  0.36915605201809476\n",
      "MSE train:  0.4170872225832296\n",
      "Model name:  ridge_alpha_4.0\n",
      "test r2 score : 0.9635812937680618\n",
      "train r2 score  : 0.9562874811890448\n",
      "MSE test:  0.3683781438667843\n",
      "MSE train:  0.41911918186667607\n",
      "Model name:  ridge_alpha_4.1000000000000005\n",
      "test r2 score : 0.9636523420104885\n",
      "train r2 score  : 0.9560784932862216\n",
      "MSE test:  0.3676594851779377\n",
      "MSE train:  0.42112297485856753\n",
      "Model name:  ridge_alpha_4.2\n",
      "test r2 score : 0.963717950475415\n",
      "train r2 score  : 0.955872363096981\n",
      "MSE test:  0.36699585027620224\n",
      "MSE train:  0.42309936786044866\n",
      "Model name:  ridge_alpha_4.3\n",
      "test r2 score : 0.9637785002850896\n",
      "train r2 score  : 0.9556690130084485\n",
      "MSE test:  0.36638338407936966\n",
      "MSE train:  0.42504910503086496\n",
      "Model name:  ridge_alpha_4.4\n",
      "test r2 score : 0.9638343396564975\n",
      "train r2 score  : 0.9554683677212017\n",
      "MSE test:  0.36581856434461857\n",
      "MSE train:  0.42697290834679785\n",
      "Model name:  ridge_alpha_4.5\n",
      "test r2 score : 0.9638857871989895\n",
      "train r2 score  : 0.9552703542370329\n",
      "MSE test:  0.36529816831272655\n",
      "MSE train:  0.4288714777209929\n",
      "Model name:  ridge_alpha_4.6000000000000005\n",
      "test r2 score : 0.963933134834277\n",
      "train r2 score  : 0.9550749018338313\n",
      "MSE test:  0.3648192431720973\n",
      "MSE train:  0.4307454912427939\n",
      "Model name:  ridge_alpha_4.7\n",
      "test r2 score : 0.9639766503875655\n",
      "train r2 score  : 0.9548819420303628\n",
      "MSE test:  0.36437907984922513\n",
      "MSE train:  0.43259560551583853\n",
      "Model name:  ridge_alpha_4.800000000000001\n",
      "test r2 score : 0.9640165798916059\n",
      "train r2 score  : 0.9546914085432262\n",
      "MSE test:  0.3639751897030386\n",
      "MSE train:  0.43442245607076185\n",
      "Model name:  ridge_alpha_4.9\n",
      "test r2 score : 0.9640531496395129\n",
      "train r2 score  : 0.9545032372378611\n",
      "MSE test:  0.3636052837604759\n",
      "MSE train:  0.4362266578349401\n",
      "Model name:  ridge_alpha_5.0\n",
      "test r2 score : 0.9640865680172223\n",
      "train r2 score  : 0.9543173660751403\n",
      "MSE test:  0.36326725418102823\n",
      "MSE train:  0.4380088056445658\n",
      "Model name:  ridge_alpha_5.1000000000000005\n",
      "test r2 score : 0.9641170271422366\n",
      "train r2 score  : 0.9541337350548039\n",
      "MSE test:  0.3629591576806989\n",
      "MSE train:  0.4397694747870044\n",
      "Model name:  ridge_alpha_5.2\n",
      "test r2 score : 0.9641447043317184\n",
      "train r2 score  : 0.9539522861567606\n",
      "MSE test:  0.362679200682121\n",
      "MSE train:  0.4415092215636056\n",
      "Model name:  ridge_alpha_5.300000000000001\n",
      "test r2 score : 0.9641697634199353\n",
      "train r2 score  : 0.9537729632810915\n",
      "MSE test:  0.3624257259884974\n",
      "MSE train:  0.4432285838649515\n",
      "Model name:  ridge_alpha_5.4\n"
     ]
    },
    {
     "name": "stdout",
     "output_type": "stream",
     "text": [
      "test r2 score : 0.9641923559424544\n",
      "train r2 score  : 0.9535957121874319\n",
      "MSE test:  0.36219720080537104\n",
      "MSE train:  0.44492808175206494\n",
      "Model name:  ridge_alpha_5.5\n",
      "test r2 score : 0.9642126222022429\n",
      "train r2 score  : 0.9534204804342792\n",
      "MSE test:  0.361992205956942\n",
      "MSE train:  0.44660821803833173\n",
      "Model name:  ridge_alpha_5.6000000000000005\n",
      "test r2 score : 0.9642306922309201\n",
      "train r2 score  : 0.9532472173186641\n",
      "MSE test:  0.36180942616291767\n",
      "MSE train:  0.44826947886794244\n",
      "Model name:  ridge_alpha_5.7\n",
      "test r2 score : 0.9642466866567496\n",
      "train r2 score  : 0.953075873816532\n",
      "MSE test:  0.36164764125870413\n",
      "MSE train:  0.4499123342875154\n",
      "Model name:  ridge_alpha_5.800000000000001\n",
      "test r2 score : 0.9642607174895331\n",
      "train r2 score  : 0.9529064025241104\n",
      "MSE test:  0.3615057182561464\n",
      "MSE train:  0.4515372388082742\n",
      "Model name:  ridge_alpha_5.9\n",
      "test r2 score : 0.9642728888313481\n",
      "train r2 score  : 0.9527387576004729\n",
      "MSE test:  0.36138260415435436\n",
      "MSE train:  0.45314463195674237\n",
      "Model name:  ridge_alpha_6.0\n",
      "test r2 score : 0.9642832975209839\n",
      "train r2 score  : 0.952572894711465\n",
      "MSE test:  0.3612773194211829\n",
      "MSE train:  0.45473493881239874\n",
      "Model name:  ridge_alpha_6.1000000000000005\n",
      "test r2 score : 0.9642920337190228\n",
      "train r2 score  : 0.952408770975107\n",
      "MSE test:  0.36118895207508495\n",
      "MSE train:  0.45630857053114543\n",
      "Model name:  ridge_alpha_6.2\n",
      "test r2 score : 0.9642991814396953\n",
      "train r2 score  : 0.9522463449085654\n",
      "MSE test:  0.36111665230536105\n",
      "MSE train:  0.4578659248537631\n",
      "Model name:  ridge_alpha_6.300000000000001\n",
      "test r2 score : 0.9643048190349345\n",
      "train r2 score  : 0.952085576376745\n",
      "MSE test:  0.3610596275759031\n",
      "MSE train:  0.4594073865988042\n",
      "Model name:  ridge_alpha_6.4\n",
      "test r2 score : 0.9643090196354454\n",
      "train r2 score  : 0.9519264265425413\n",
      "MSE test:  0.3610171381637458\n",
      "MSE train:  0.4609333281395814\n",
      "Model name:  ridge_alpha_6.5\n",
      "test r2 score : 0.9643118515530634\n",
      "train r2 score  : 0.9517688578187656\n",
      "MSE test:  0.3609884930891767\n",
      "MSE train:  0.4624441098651154\n",
      "Model name:  ridge_alpha_6.6000000000000005\n",
      "test r2 score : 0.9643133786482034\n",
      "train r2 score  : 0.9516128338217447\n",
      "MSE test:  0.36097304639896166\n",
      "MSE train:  0.46394008062502096\n",
      "Model name:  ridge_alpha_6.7\n",
      "test r2 score : 0.9643136606657893\n",
      "train r2 score  : 0.9514583193265842\n",
      "MSE test:  0.3609701937683896\n",
      "MSE train:  0.46542157815844537\n",
      "Model name:  ridge_alpha_6.800000000000001\n",
      "test r2 score : 0.9643127535426829\n",
      "train r2 score  : 0.9513052802240739\n",
      "MSE test:  0.3609793693916002\n",
      "MSE train:  0.4668889295072684\n",
      "Model name:  ridge_alpha_6.9\n",
      "test r2 score : 0.9643107096893206\n",
      "train r2 score  : 0.9511536834792059\n",
      "MSE test:  0.36100004313281187\n",
      "MSE train:  0.4683424514138307\n",
      "Model name:  ridge_alpha_7.0\n",
      "test r2 score : 0.9643075782479683\n",
      "train r2 score  : 0.9510034970912712\n",
      "MSE test:  0.3610317179140536\n",
      "MSE train:  0.46978245070352925\n",
      "Model name:  ridge_alpha_7.1000000000000005\n",
      "test r2 score : 0.9643034053297632\n",
      "train r2 score  : 0.9508546900554953\n",
      "MSE test:  0.36107392731745985\n",
      "MSE train:  0.4712092246526615\n",
      "Model name:  ridge_alpha_7.2\n",
      "test r2 score : 0.9642982342324885\n",
      "train r2 score  : 0.9507072323261706\n",
      "MSE test:  0.36112623338247174\n",
      "MSE train:  0.472623061341912\n",
      "Model name:  ridge_alpha_7.300000000000001\n",
      "test r2 score : 0.9642921056408219\n",
      "train r2 score  : 0.9505610947812392\n",
      "MSE test:  0.36118822458029987\n",
      "MSE train:  0.47402423999593835\n",
      "Model name:  ridge_alpha_7.4\n",
      "test r2 score : 0.9642850578106354\n",
      "train r2 score  : 0.9504162491882814\n",
      "MSE test:  0.36125951394972045\n",
      "MSE train:  0.4754130313094754\n",
      "Model name:  ridge_alpha_7.5\n",
      "test r2 score : 0.9642771267387541\n",
      "train r2 score  : 0.95027266817186\n",
      "MSE test:  0.3613397373799516\n",
      "MSE train:  0.47678969776043856\n",
      "Model name:  ridge_alpha_7.6000000000000005\n",
      "test r2 score : 0.9642683463194566\n",
      "train r2 score  : 0.9501303251821747\n",
      "MSE test:  0.36142855202763796\n",
      "MSE train:  0.47815449391046977\n",
      "Model name:  ridge_alpha_7.7\n",
      "test r2 score : 0.9642587484888645\n",
      "train r2 score  : 0.949989194464977\n",
      "MSE test:  0.36152563485633976\n",
      "MSE train:  0.4795076666933962\n",
      "Model name:  ridge_alpha_7.800000000000001\n",
      "test r2 score : 0.9642483633582641\n",
      "train r2 score  : 0.9498492510326986\n",
      "MSE test:  0.3616306812879738\n",
      "MSE train:  0.48084945569205334\n",
      "Model name:  ridge_alpha_7.9\n",
      "test r2 score : 0.964237219337302\n",
      "train r2 score  : 0.9497104706367464\n",
      "MSE test:  0.3617434039566787\n",
      "MSE train:  0.4821800934039217\n",
      "Model name:  ridge_alpha_8.0\n",
      "test r2 score : 0.9642253432479081\n",
      "train r2 score  : 0.9495728297409181\n",
      "MSE test:  0.3618635315564745\n",
      "MSE train:  0.48349980549602173\n",
      "Model name:  ridge_alpha_8.1\n",
      "test r2 score : 0.9642127604297213\n",
      "train r2 score  : 0.9494363054958925\n",
      "MSE test:  0.3619908077748766\n",
      "MSE train:  0.48480881104950024\n",
      "Model name:  ridge_alpha_8.200000000000001\n",
      "test r2 score : 0.9641994948377174\n",
      "train r2 score  : 0.9493008757147527\n",
      "MSE test:  0.36212499030537443\n",
      "MSE train:  0.4861073227943201\n",
      "Model name:  ridge_alpha_8.3\n",
      "test r2 score : 0.9641855691326818\n",
      "train r2 score  : 0.9491665188494969\n",
      "MSE test:  0.36226584993230265\n",
      "MSE train:  0.48739554733447443\n",
      "Model name:  ridge_alpha_8.4\n",
      "test r2 score : 0.964171004765104\n",
      "train r2 score  : 0.9490332139684976\n",
      "MSE test:  0.3624131696822348\n",
      "MSE train:  0.488673685364105\n",
      "Model name:  ridge_alpha_8.5\n",
      "test r2 score : 0.9641558220530237\n",
      "train r2 score  : 0.9489009407348694\n",
      "MSE test:  0.36256674403656075\n",
      "MSE train:  0.48994193187492424\n",
      "Model name:  ridge_alpha_8.6\n",
      "test r2 score : 0.9641400402543145\n",
      "train r2 score  : 0.9487696793857043\n",
      "MSE test:  0.36272637820034354\n",
      "MSE train:  0.49120047635529873\n",
      "Model name:  ridge_alpha_8.700000000000001\n",
      "test r2 score : 0.9641236776338347\n",
      "train r2 score  : 0.9486394107121418\n",
      "MSE test:  0.3628918874230708\n",
      "MSE train:  0.4924495029813437\n",
      "Model name:  ridge_alpha_8.8\n",
      "test r2 score : 0.9641067515258591\n",
      "train r2 score  : 0.9485101160402337\n",
      "MSE test:  0.3630630963671556\n",
      "MSE train:  0.4936891908003918\n",
      "Model name:  ridge_alpha_8.9\n",
      "test r2 score : 0.9640892783921486\n",
      "train r2 score  : 0.9483817772125728\n",
      "MSE test:  0.36323983852056485\n",
      "MSE train:  0.494919713907138\n",
      "Model name:  ridge_alpha_9.0\n",
      "test r2 score : 0.9640712738759971\n",
      "train r2 score  : 0.9482543765706508\n",
      "MSE test:  0.36342195565012125\n",
      "MSE train:  0.49614124161279477\n",
      "Model name:  ridge_alpha_9.1\n",
      "test r2 score : 0.9640527528525628\n",
      "train r2 score  : 0.9481278969379144\n",
      "MSE test:  0.36360929729240254\n",
      "MSE train:  0.49735393860755067\n",
      "Model name:  ridge_alpha_9.200000000000001\n",
      "test r2 score : 0.9640337294757632\n",
      "train r2 score  : 0.9480023216034899\n",
      "MSE test:  0.36380172027939395\n",
      "MSE train:  0.4985579651166225\n",
      "Model name:  ridge_alpha_9.3\n",
      "test r2 score : 0.9640142172219934\n",
      "train r2 score  : 0.9478776343065456\n",
      "MSE test:  0.36399908829627475\n",
      "MSE train:  0.49975347705018175\n",
      "Model name:  ridge_alpha_9.4\n",
      "test r2 score : 0.9639942289309045\n",
      "train r2 score  : 0.9477538192212683\n",
      "MSE test:  0.3642012714689429\n",
      "MSE train:  0.5009406261474142\n",
      "Model name:  ridge_alpha_9.5\n",
      "test r2 score : 0.9639737768434549\n",
      "train r2 score  : 0.9476308609424222\n",
      "MSE test:  0.3644081459791162\n",
      "MSE train:  0.5021195601149712\n",
      "Model name:  ridge_alpha_9.600000000000001\n",
      "test r2 score : 0.9639528726374428\n",
      "train r2 score  : 0.9475087444714694\n",
      "MSE test:  0.3646195937049273\n",
      "MSE train:  0.5032904227600532\n",
      "Model name:  ridge_alpha_9.700000000000001\n",
      "test r2 score : 0.9639315274606931\n",
      "train r2 score  : 0.9473874552032255\n",
      "MSE test:  0.3648355018852306\n",
      "MSE train:  0.5044533541183541\n",
      "Model name:  ridge_alpha_9.8\n",
      "test r2 score : 0.9639097519620758\n",
      "train r2 score  : 0.9472669789130278\n",
      "MSE test:  0.3650557628058499\n",
      "MSE train:  0.5056084905770963\n",
      "Model name:  ridge_alpha_9.9\n",
      "test r2 score : 0.9638875563205064\n",
      "train r2 score  : 0.9471473017443944\n",
      "MSE test:  0.36528027350623615\n",
      "MSE train:  0.5067559649933542\n"
     ]
    }
   ],
   "source": [
    "for a in np.arange(0.,10.,0.1):\n",
    "    ridge_reg(a, X_train, X_test)"
   ]
  },
  {
   "cell_type": "code",
   "execution_count": 423,
   "id": "3f2e1013",
   "metadata": {},
   "outputs": [
    {
     "data": {
      "text/html": [
       "<div>\n",
       "<style scoped>\n",
       "    .dataframe tbody tr th:only-of-type {\n",
       "        vertical-align: middle;\n",
       "    }\n",
       "\n",
       "    .dataframe tbody tr th {\n",
       "        vertical-align: top;\n",
       "    }\n",
       "\n",
       "    .dataframe thead th {\n",
       "        text-align: right;\n",
       "    }\n",
       "</style>\n",
       "<table border=\"1\" class=\"dataframe\">\n",
       "  <thead>\n",
       "    <tr style=\"text-align: right;\">\n",
       "      <th></th>\n",
       "      <th>model</th>\n",
       "      <th>test_R2</th>\n",
       "      <th>train_R2</th>\n",
       "      <th>test_MSE</th>\n",
       "      <th>train_MSE</th>\n",
       "    </tr>\n",
       "  </thead>\n",
       "  <tbody>\n",
       "    <tr>\n",
       "      <th>0</th>\n",
       "      <td>base_linear_regression</td>\n",
       "      <td>0.956686</td>\n",
       "      <td>0.932549</td>\n",
       "      <td>0.421468</td>\n",
       "      <td>0.923683</td>\n",
       "    </tr>\n",
       "    <tr>\n",
       "      <th>1</th>\n",
       "      <td>linear_regression_no_outlayers</td>\n",
       "      <td>0.918254</td>\n",
       "      <td>0.966806</td>\n",
       "      <td>0.826870</td>\n",
       "      <td>0.318266</td>\n",
       "    </tr>\n",
       "    <tr>\n",
       "      <th>2</th>\n",
       "      <td>linear_regression_scaled_data</td>\n",
       "      <td>0.937632</td>\n",
       "      <td>0.927922</td>\n",
       "      <td>0.630854</td>\n",
       "      <td>0.691094</td>\n",
       "    </tr>\n",
       "    <tr>\n",
       "      <th>3</th>\n",
       "      <td>linear_regression_scaled_data_2_poly</td>\n",
       "      <td>0.927628</td>\n",
       "      <td>0.941771</td>\n",
       "      <td>0.732045</td>\n",
       "      <td>0.558301</td>\n",
       "    </tr>\n",
       "    <tr>\n",
       "      <th>4</th>\n",
       "      <td>ridge_alpha_0.0</td>\n",
       "      <td>0.918254</td>\n",
       "      <td>0.966806</td>\n",
       "      <td>0.826870</td>\n",
       "      <td>0.318266</td>\n",
       "    </tr>\n",
       "    <tr>\n",
       "      <th>...</th>\n",
       "      <td>...</td>\n",
       "      <td>...</td>\n",
       "      <td>...</td>\n",
       "      <td>...</td>\n",
       "      <td>...</td>\n",
       "    </tr>\n",
       "    <tr>\n",
       "      <th>99</th>\n",
       "      <td>ridge_alpha_9.5</td>\n",
       "      <td>0.963974</td>\n",
       "      <td>0.947631</td>\n",
       "      <td>0.364408</td>\n",
       "      <td>0.502120</td>\n",
       "    </tr>\n",
       "    <tr>\n",
       "      <th>100</th>\n",
       "      <td>ridge_alpha_9.600000000000001</td>\n",
       "      <td>0.963953</td>\n",
       "      <td>0.947509</td>\n",
       "      <td>0.364620</td>\n",
       "      <td>0.503290</td>\n",
       "    </tr>\n",
       "    <tr>\n",
       "      <th>101</th>\n",
       "      <td>ridge_alpha_9.700000000000001</td>\n",
       "      <td>0.963932</td>\n",
       "      <td>0.947387</td>\n",
       "      <td>0.364836</td>\n",
       "      <td>0.504453</td>\n",
       "    </tr>\n",
       "    <tr>\n",
       "      <th>102</th>\n",
       "      <td>ridge_alpha_9.8</td>\n",
       "      <td>0.963910</td>\n",
       "      <td>0.947267</td>\n",
       "      <td>0.365056</td>\n",
       "      <td>0.505608</td>\n",
       "    </tr>\n",
       "    <tr>\n",
       "      <th>103</th>\n",
       "      <td>ridge_alpha_9.9</td>\n",
       "      <td>0.963888</td>\n",
       "      <td>0.947147</td>\n",
       "      <td>0.365280</td>\n",
       "      <td>0.506756</td>\n",
       "    </tr>\n",
       "  </tbody>\n",
       "</table>\n",
       "<p>104 rows × 5 columns</p>\n",
       "</div>"
      ],
      "text/plain": [
       "                                    model   test_R2  train_R2  test_MSE  \\\n",
       "0                  base_linear_regression  0.956686  0.932549  0.421468   \n",
       "1          linear_regression_no_outlayers  0.918254  0.966806  0.826870   \n",
       "2           linear_regression_scaled_data  0.937632  0.927922  0.630854   \n",
       "3    linear_regression_scaled_data_2_poly  0.927628  0.941771  0.732045   \n",
       "4                         ridge_alpha_0.0  0.918254  0.966806  0.826870   \n",
       "..                                    ...       ...       ...       ...   \n",
       "99                        ridge_alpha_9.5  0.963974  0.947631  0.364408   \n",
       "100         ridge_alpha_9.600000000000001  0.963953  0.947509  0.364620   \n",
       "101         ridge_alpha_9.700000000000001  0.963932  0.947387  0.364836   \n",
       "102                       ridge_alpha_9.8  0.963910  0.947267  0.365056   \n",
       "103                       ridge_alpha_9.9  0.963888  0.947147  0.365280   \n",
       "\n",
       "     train_MSE  \n",
       "0     0.923683  \n",
       "1     0.318266  \n",
       "2     0.691094  \n",
       "3     0.558301  \n",
       "4     0.318266  \n",
       "..         ...  \n",
       "99    0.502120  \n",
       "100   0.503290  \n",
       "101   0.504453  \n",
       "102   0.505608  \n",
       "103   0.506756  \n",
       "\n",
       "[104 rows x 5 columns]"
      ]
     },
     "execution_count": 423,
     "metadata": {},
     "output_type": "execute_result"
    }
   ],
   "source": [
    "models"
   ]
  },
  {
   "cell_type": "code",
   "execution_count": 434,
   "id": "d685f297",
   "metadata": {},
   "outputs": [
    {
     "data": {
      "text/plain": [
       "<AxesSubplot:>"
      ]
     },
     "execution_count": 434,
     "metadata": {},
     "output_type": "execute_result"
    },
    {
     "data": {
      "image/png": "[encoded data removed]",
      "text/plain": [
       "<Figure size 432x288 with 1 Axes>"
      ]
     },
     "metadata": {
      "needs_background": "light"
     },
     "output_type": "display_data"
    }
   ],
   "source": [
    "sns.lineplot(data = models[['test_MSE', 'train_MSE', 'test_R2', 'train_R2']])"
   ]
  },
  {
   "cell_type": "code",
   "execution_count": 435,
   "id": "ce75ab23",
   "metadata": {},
   "outputs": [
    {
     "data": {
      "text/html": [
       "<div>\n",
       "<style scoped>\n",
       "    .dataframe tbody tr th:only-of-type {\n",
       "        vertical-align: middle;\n",
       "    }\n",
       "\n",
       "    .dataframe tbody tr th {\n",
       "        vertical-align: top;\n",
       "    }\n",
       "\n",
       "    .dataframe thead th {\n",
       "        text-align: right;\n",
       "    }\n",
       "</style>\n",
       "<table border=\"1\" class=\"dataframe\">\n",
       "  <thead>\n",
       "    <tr style=\"text-align: right;\">\n",
       "      <th></th>\n",
       "      <th>model</th>\n",
       "      <th>test_R2</th>\n",
       "      <th>train_R2</th>\n",
       "      <th>test_MSE</th>\n",
       "      <th>train_MSE</th>\n",
       "    </tr>\n",
       "  </thead>\n",
       "  <tbody>\n",
       "    <tr>\n",
       "      <th>28</th>\n",
       "      <td>ridge_alpha_2.4000000000000004</td>\n",
       "      <td>0.961180</td>\n",
       "      <td>0.960091</td>\n",
       "      <td>0.392665</td>\n",
       "      <td>0.382653</td>\n",
       "    </tr>\n",
       "    <tr>\n",
       "      <th>29</th>\n",
       "      <td>ridge_alpha_2.5</td>\n",
       "      <td>0.961440</td>\n",
       "      <td>0.959824</td>\n",
       "      <td>0.390033</td>\n",
       "      <td>0.385210</td>\n",
       "    </tr>\n",
       "    <tr>\n",
       "      <th>30</th>\n",
       "      <td>ridge_alpha_2.6</td>\n",
       "      <td>0.961679</td>\n",
       "      <td>0.959562</td>\n",
       "      <td>0.387619</td>\n",
       "      <td>0.387726</td>\n",
       "    </tr>\n",
       "    <tr>\n",
       "      <th>31</th>\n",
       "      <td>ridge_alpha_2.7</td>\n",
       "      <td>0.961898</td>\n",
       "      <td>0.959303</td>\n",
       "      <td>0.385404</td>\n",
       "      <td>0.390201</td>\n",
       "    </tr>\n",
       "    <tr>\n",
       "      <th>32</th>\n",
       "      <td>ridge_alpha_2.8000000000000003</td>\n",
       "      <td>0.962099</td>\n",
       "      <td>0.959049</td>\n",
       "      <td>0.383369</td>\n",
       "      <td>0.392638</td>\n",
       "    </tr>\n",
       "    <tr>\n",
       "      <th>33</th>\n",
       "      <td>ridge_alpha_2.9000000000000004</td>\n",
       "      <td>0.962284</td>\n",
       "      <td>0.958799</td>\n",
       "      <td>0.381496</td>\n",
       "      <td>0.395036</td>\n",
       "    </tr>\n",
       "  </tbody>\n",
       "</table>\n",
       "</div>"
      ],
      "text/plain": [
       "                             model   test_R2  train_R2  test_MSE  train_MSE\n",
       "28  ridge_alpha_2.4000000000000004  0.961180  0.960091  0.392665   0.382653\n",
       "29                 ridge_alpha_2.5  0.961440  0.959824  0.390033   0.385210\n",
       "30                 ridge_alpha_2.6  0.961679  0.959562  0.387619   0.387726\n",
       "31                 ridge_alpha_2.7  0.961898  0.959303  0.385404   0.390201\n",
       "32  ridge_alpha_2.8000000000000003  0.962099  0.959049  0.383369   0.392638\n",
       "33  ridge_alpha_2.9000000000000004  0.962284  0.958799  0.381496   0.395036"
      ]
     },
     "execution_count": 435,
     "metadata": {},
     "output_type": "execute_result"
    }
   ],
   "source": [
    "models.iloc[28:34]"
   ]
  },
  {
   "cell_type": "markdown",
   "id": "a9cfe232",
   "metadata": {},
   "source": [
    "We can see the best results with alpha = 2.6 "
   ]
  },
  {
   "cell_type": "markdown",
   "id": "9313da60",
   "metadata": {},
   "source": [
    "### 9. Describe hyper-parameters in your model and how you would change them to improve the performance of the model.\n",
    "\n",
    "In Ridge megression model our Hyperparameter is alpha\n",
    "We checked the best value"
   ]
  },
  {
   "cell_type": "markdown",
   "id": "20325cd7",
   "metadata": {},
   "source": [
    "### 10. What is regularization? What is the regularization parameter in your model?\n",
    "Its adding small bias(alpha) to our cost function"
   ]
  },
  {
   "cell_type": "markdown",
   "id": "e85c5781",
   "metadata": {},
   "source": [
    "### 11. Plot regularization parameter value vs Pearson correlation for the test and training sets, and see whether your model has bias problem or variance problem.\n",
    "\n",
    "What is bias?\n",
    "Bias is the difference between the average prediction of our model and the correct value which we are trying to predict. Model with high bias pays very little attention to the training data and oversimplifies the model. It always leads to high error on training and test data.\n",
    "\n",
    "What is variance?\n",
    "Variance is the variability of model prediction for a given data point or a value which tells us spread of our data. Modael with high variance pays a lot of attention to training data and does not generalize on data it neve seen before. As a result, such models perform very well on training data but has high error rates on test data.\n"
   ]
  },
  {
   "cell_type": "code",
   "execution_count": null,
   "id": "799644ee",
   "metadata": {},
   "outputs": [],
   "source": [
    "intercept = clf.intercept_\n",
    "    coefficient = clf.coef_\n",
    "    parameters = coefficient + intercept"
   ]
  },
  {
   "cell_type": "code",
   "execution_count": 442,
   "id": "5770a9d7",
   "metadata": {},
   "outputs": [
    {
     "data": {
      "text/plain": [
       "Ridge(alpha=2.6)"
      ]
     },
     "execution_count": 442,
     "metadata": {},
     "output_type": "execute_result"
    }
   ],
   "source": [
    "ridge = Ridge(alpha = 2.6)\n",
    "ridge.fit(X_train, y_train)"
   ]
  },
  {
   "cell_type": "code",
   "execution_count": 443,
   "id": "7972520d",
   "metadata": {},
   "outputs": [],
   "source": [
    "intercept = ridge.intercept_\n",
    "coefficient = ridge.coef_\n",
    "parameters = coefficient + intercept"
   ]
  },
  {
   "cell_type": "code",
   "execution_count": 444,
   "id": "0c06d9f3",
   "metadata": {},
   "outputs": [
    {
     "data": {
      "text/plain": [
       "(-0.8154564488252909,\n",
       " array([-0.01329459,  0.01116611, -0.06771853,  0.48681798,  0.61444964,\n",
       "         0.        ,  0.09804062,  0.37633324, -0.34328408,  0.0153145 ,\n",
       "         0.14240274,  0.28055161, -0.53966883, -0.1344829 ,  0.51609526,\n",
       "         0.04079925,  0.        , -0.06358291, -0.09246401, -0.00740619,\n",
       "        -0.82382048, -0.00752461, -0.15378369,  1.02662427, -0.33014379]),\n",
       " array([-0.82875104, -0.80429034, -0.88317498, -0.32863847, -0.20100681,\n",
       "        -0.81545645, -0.71741583, -0.43912321, -1.15874053, -0.80014195,\n",
       "        -0.67305371, -0.53490483, -1.35512528, -0.94993935, -0.29936119,\n",
       "        -0.7746572 , -0.81545645, -0.87903935, -0.90792046, -0.82286264,\n",
       "        -1.63927693, -0.82298105, -0.96924014,  0.21116782, -1.14560024]))"
      ]
     },
     "execution_count": 444,
     "metadata": {},
     "output_type": "execute_result"
    }
   ],
   "source": [
    "intercept, coefficient, parameters"
   ]
  },
  {
   "cell_type": "code",
   "execution_count": 447,
   "id": "7bc0c101",
   "metadata": {},
   "outputs": [
    {
     "data": {
      "text/plain": [
       "25"
      ]
     },
     "execution_count": 447,
     "metadata": {},
     "output_type": "execute_result"
    }
   ],
   "source": [
    "len(parameters)"
   ]
  },
  {
   "cell_type": "code",
   "execution_count": 458,
   "id": "5c6ed797",
   "metadata": {},
   "outputs": [],
   "source": [
    "def pearson_coeff_param(X, y, parameters = parameters):\n",
    "    for c,p in zip(X.columns, parameters):\n",
    "        corr, _ = pearsonr(X[c], y)\n",
    "        print('Feature:',c, f', Pearsons correlation: {corr}, Parameter: {p}')"
   ]
  },
  {
   "cell_type": "code",
   "execution_count": 459,
   "id": "d4cdef72",
   "metadata": {
    "scrolled": true
   },
   "outputs": [
    {
     "name": "stdout",
     "output_type": "stream",
     "text": [
      "TRAIN DATA\n",
      "Feature: Age , Pearsons correlation: -0.5741724290219018, Parameter: -0.828751040772485\n",
      "Feature: Tonnage , Pearsons correlation: 0.9333597087663635, Parameter: -0.8042903421835131\n",
      "Feature: passengers , Pearsons correlation: 0.9074237482448468, Parameter: -0.8831749762658336\n",
      "Feature: length , Pearsons correlation: 0.9032446523694527, Parameter: -0.3286384727895403\n",
      "Feature: cabins , Pearsons correlation: 0.9503972393994883, Parameter: -0.20100681040669666\n",
      "Feature: Azamara , Pearsons correlation: nan, Parameter: -0.8154564488252909\n",
      "Feature: Carnival , Pearsons correlation: 0.22493299418990673, Parameter: -0.7174158268618399\n",
      "Feature: Celebrity , Pearsons correlation: 0.06651093050764867, Parameter: -0.43912321126199616\n",
      "Feature: Costa , Pearsons correlation: 0.06365015090314735, Parameter: -1.1587405313102392\n",
      "Feature: Crystal , Pearsons correlation: -0.06410233585763404, Parameter: -0.8001419513170935\n",
      "Feature: Cunard , Pearsons correlation: 0.03346040755590145, Parameter: -0.6730537085573134\n",
      "Feature: Disney , Pearsons correlation: 0.059273007147791934, Parameter: -0.5349048341158329\n",
      "Feature: Holland_American , Pearsons correlation: -0.20193326188011587, Parameter: -1.355125280267882\n",
      "Feature: MSC , Pearsons correlation: 0.08921515322454915, Parameter: -0.9499393476031075\n",
      "Feature: Norwegian , Pearsons correlation: 0.06140044978241429, Parameter: -0.29936119253661664\n",
      "Feature: Oceania , Pearsons correlation: -0.14489113391235114, Parameter: -0.7746571977448843\n",
      "Feature: Orient , Pearsons correlation: nan, Parameter: -0.8154564488252909\n",
      "Feature: P&O , Pearsons correlation: 0.03070781726561366, Parameter: -0.8790393546438126\n",
      "Feature: Princess , Pearsons correlation: 0.07766283174516488, Parameter: -0.9079204629685151\n",
      "Feature: Regent_Seven_Seas , Pearsons correlation: -0.17090786548929393, Parameter: -0.8228626373141109\n",
      "Feature: Royal_Caribbean , Pearsons correlation: 0.19656953566503324, Parameter: -1.6392769259827922\n",
      "Feature: Seabourn , Pearsons correlation: -0.3229153614742306, Parameter: -0.8229810541714391\n",
      "Feature: Silversea , Pearsons correlation: -0.3549766553365519, Parameter: -0.9692401408408884\n",
      "Feature: Star , Pearsons correlation: 0.07387893206328328, Parameter: 0.21116781856370648\n",
      "Feature: Windstar , Pearsons correlation: -0.33557382973432315, Parameter: -1.1456002399205836\n"
     ]
    }
   ],
   "source": [
    "print('TRAIN DATA')\n",
    "pearson_coeff_param(X_train, y_train)"
   ]
  },
  {
   "cell_type": "code",
   "execution_count": null,
   "id": "8b61e79c",
   "metadata": {},
   "outputs": [],
   "source": []
  },
  {
   "cell_type": "code",
   "execution_count": null,
   "id": "ac75a3aa",
   "metadata": {},
   "outputs": [],
   "source": []
  }
 ],
 "metadata": {
  "kernelspec": {
   "display_name": "Python 3",
   "language": "python",
   "name": "python3"
  },
  "language_info": {
   "codemirror_mode": {
    "name": "ipython",
    "version": 3
   },
   "file_extension": ".py",
   "mimetype": "text/x-python",
   "name": "python",
   "nbconvert_exporter": "python",
   "pygments_lexer": "ipython3",
   "version": "3.9.1"
  }
 },
 "nbformat": 4,
 "nbformat_minor": 5
}
